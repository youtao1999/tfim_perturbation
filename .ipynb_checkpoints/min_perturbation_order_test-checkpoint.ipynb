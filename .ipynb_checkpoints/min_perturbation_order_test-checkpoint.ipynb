{
 "cells": [
  {
   "cell_type": "code",
   "execution_count": 1,
   "id": "d5432fc7-4a33-4056-aa03-13768f8d2142",
   "metadata": {},
   "outputs": [],
   "source": [
    "import tfim\n",
    "import tfim_perturbation\n",
    "import tfim_matrices\n",
    "import numpy as np\n",
    "from scipy import sparse\n",
    "from scipy.sparse import linalg as spla\n",
    "from scipy import linalg\n",
    "import matplotlib.pyplot as plt\n",
    "from scipy import optimize\n",
    "import progressbar\n",
    "import itertools\n",
    "import networkx as nx\n",
    "import matplotlib.pyplot as plt\n"
   ]
  },
  {
   "cell_type": "code",
   "execution_count": 2,
   "id": "3e7f7ef7-5741-49bf-bbc5-4f20a74df597",
   "metadata": {},
   "outputs": [],
   "source": [
    "# Initial system specification\n",
    "L = [10]\n",
    "Jij_seed = 55\n",
    "h_x_range = np.arange(0, 0.005, 0.0001)\n",
    "h_x_range = np.logspace(-4, -2, 40)"
   ]
  },
  {
   "cell_type": "code",
   "execution_count": 3,
   "id": "0fc3f5fe-9b72-43d5-b039-aebfdfc0e4e4",
   "metadata": {},
   "outputs": [],
   "source": [
    "PBC = True\n",
    "J = 1"
   ]
  },
  {
   "cell_type": "code",
   "execution_count": 4,
   "id": "832f8284-b57a-4d47-a42d-dc44a18777d6",
   "metadata": {},
   "outputs": [],
   "source": [
    "# Build lattice and basis\n",
    "###################################\n",
    "lattice = tfim.Lattice(L, PBC)\n",
    "N = lattice.N\n",
    "basis = tfim.IsingBasis(lattice)\n",
    "###################################"
   ]
  },
  {
   "cell_type": "code",
   "execution_count": 5,
   "id": "fb7e859a-8382-4c44-948c-dd85a7531402",
   "metadata": {},
   "outputs": [],
   "source": [
    "#construct random J matrix\n",
    "Jij = tfim.Jij_instance(N,J,\"bimodal\",Jij_seed) \n",
    "Jij = np.array([[-1, 1, 1]])"
   ]
  },
  {
   "cell_type": "code",
   "execution_count": 6,
   "id": "77c7ae7d-6e03-47bd-b5b0-c4a1e69c4089",
   "metadata": {},
   "outputs": [
    {
     "name": "stderr",
     "output_type": "stream",
     "text": [
      "N/A% (0 of 1024) |                       | Elapsed Time: 0:00:00 ETA:  --:--:--"
     ]
    },
    {
     "ename": "ValueError",
     "evalue": "operands could not be broadcast together with shapes (3,) (10,) ",
     "output_type": "error",
     "traceback": [
      "\u001b[1;31m---------------------------------------------------------------------------\u001b[0m",
      "\u001b[1;31mValueError\u001b[0m                                Traceback (most recent call last)",
      "\u001b[1;32m<ipython-input-6-b460f94759e4>\u001b[0m in \u001b[0;36m<module>\u001b[1;34m\u001b[0m\n\u001b[0;32m      1\u001b[0m \u001b[1;31m# List out all the spin_states, corresponding indices and energies\u001b[0m\u001b[1;33m\u001b[0m\u001b[1;33m\u001b[0m\u001b[1;33m\u001b[0m\u001b[0m\n\u001b[1;32m----> 2\u001b[1;33m \u001b[0mEnergies\u001b[0m \u001b[1;33m=\u001b[0m \u001b[1;33m-\u001b[0m\u001b[0mtfim\u001b[0m\u001b[1;33m.\u001b[0m\u001b[0mJZZ_SK_ME\u001b[0m\u001b[1;33m(\u001b[0m\u001b[0mbasis\u001b[0m\u001b[1;33m,\u001b[0m\u001b[0mJij\u001b[0m\u001b[1;33m)\u001b[0m\u001b[1;33m\u001b[0m\u001b[1;33m\u001b[0m\u001b[0m\n\u001b[0m",
      "\u001b[1;32m~\\Desktop\\tfim_perturbation\\tfim.py\u001b[0m in \u001b[0;36mJZZ_SK_ME\u001b[1;34m(basis, J)\u001b[0m\n\u001b[0;32m    232\u001b[0m                 \u001b[0mJZZ\u001b[0m\u001b[1;33m[\u001b[0m\u001b[0mb\u001b[0m\u001b[1;33m]\u001b[0m \u001b[1;33m=\u001b[0m \u001b[0mJZZ\u001b[0m\u001b[1;33m[\u001b[0m\u001b[0mb\u001b[0m\u001b[1;33m]\u001b[0m \u001b[1;33m+\u001b[0m \u001b[1;36m0.5\u001b[0m\u001b[1;33m*\u001b[0m\u001b[0mnp\u001b[0m\u001b[1;33m.\u001b[0m\u001b[0mdot\u001b[0m\u001b[1;33m(\u001b[0m\u001b[0mJ\u001b[0m\u001b[1;33m[\u001b[0m\u001b[0mshift\u001b[0m\u001b[1;33m-\u001b[0m\u001b[1;36m1\u001b[0m\u001b[1;33m,\u001b[0m\u001b[1;33m:\u001b[0m\u001b[1;33m]\u001b[0m\u001b[1;33m*\u001b[0m\u001b[0mshift_state\u001b[0m\u001b[1;33m,\u001b[0m\u001b[0mstate\u001b[0m\u001b[1;33m)\u001b[0m\u001b[1;33m\u001b[0m\u001b[1;33m\u001b[0m\u001b[0m\n\u001b[0;32m    233\u001b[0m             \u001b[1;32melse\u001b[0m\u001b[1;33m:\u001b[0m\u001b[1;33m\u001b[0m\u001b[1;33m\u001b[0m\u001b[0m\n\u001b[1;32m--> 234\u001b[1;33m                 \u001b[0mJZZ\u001b[0m\u001b[1;33m[\u001b[0m\u001b[0mb\u001b[0m\u001b[1;33m]\u001b[0m \u001b[1;33m=\u001b[0m \u001b[0mJZZ\u001b[0m\u001b[1;33m[\u001b[0m\u001b[0mb\u001b[0m\u001b[1;33m]\u001b[0m \u001b[1;33m+\u001b[0m \u001b[0mnp\u001b[0m\u001b[1;33m.\u001b[0m\u001b[0mdot\u001b[0m\u001b[1;33m(\u001b[0m\u001b[0mJ\u001b[0m\u001b[1;33m[\u001b[0m\u001b[0mshift\u001b[0m\u001b[1;33m-\u001b[0m\u001b[1;36m1\u001b[0m\u001b[1;33m,\u001b[0m\u001b[1;33m:\u001b[0m\u001b[1;33m]\u001b[0m\u001b[1;33m*\u001b[0m\u001b[0mshift_state\u001b[0m\u001b[1;33m,\u001b[0m\u001b[0mstate\u001b[0m\u001b[1;33m)\u001b[0m\u001b[1;33m\u001b[0m\u001b[1;33m\u001b[0m\u001b[0m\n\u001b[0m\u001b[0;32m    235\u001b[0m     \u001b[1;32mreturn\u001b[0m \u001b[0mJZZ\u001b[0m\u001b[1;33m\u001b[0m\u001b[1;33m\u001b[0m\u001b[0m\n\u001b[0;32m    236\u001b[0m \u001b[1;33m\u001b[0m\u001b[0m\n",
      "\u001b[1;31mValueError\u001b[0m: operands could not be broadcast together with shapes (3,) (10,) "
     ]
    }
   ],
   "source": [
    "# List out all the spin_states, corresponding indices and energies\n",
    "Energies = -tfim.JZZ_SK_ME(basis,Jij)"
   ]
  },
  {
   "cell_type": "code",
   "execution_count": null,
   "id": "259619e9-71bd-43b0-b3f1-3ab92b1d1619",
   "metadata": {},
   "outputs": [],
   "source": [
    "# Build a list of excited state indices that are one Hamming distances away from ground states\n",
    "GS_energy, GS_indices = tfim_perturbation.GS(Energies)"
   ]
  },
  {
   "cell_type": "code",
   "execution_count": null,
   "id": "55245321-6b77-49a1-b6a2-4601e1855eb6",
   "metadata": {},
   "outputs": [],
   "source": [
    "def Hamming_array(GS_indices, basis):\n",
    "    # Calculate Hamming distance array\n",
    "    Hamming = np.zeros((len(GS_indices), len(GS_indices)))\n",
    "    for i, n in enumerate(GS_indices):\n",
    "        basis_n = basis.state(n)\n",
    "        for j, m in enumerate(GS_indices):\n",
    "            basis_m = basis.state(m)\n",
    "            Hamming[i, j] = tfim_perturbation.Hamming_distance(basis_n, basis_m)\n",
    "    return Hamming"
   ]
  },
  {
   "cell_type": "code",
   "execution_count": null,
   "id": "fa2e8e2d-6a84-4c94-be1f-887848e45c6f",
   "metadata": {},
   "outputs": [],
   "source": [
    "Hamming_matrix = Hamming_array(GS_indices, basis)\n",
    "print(Hamming_matrix)"
   ]
  },
  {
   "cell_type": "code",
   "execution_count": null,
   "id": "e27be5f1-d966-4ade-9768-7c725d097852",
   "metadata": {},
   "outputs": [],
   "source": [
    "def lst2tuples(coupling_coord):\n",
    "    #the coupling coord must be len(GS_indices)by 2\n",
    "    output = []\n",
    "    for i, coord in enumerate(coupling_coord):\n",
    "        coord = tuple(coord)\n",
    "        output.append(coord)\n",
    "    return output"
   ]
  },
  {
   "cell_type": "code",
   "execution_count": null,
   "id": "fd43c713-a4c1-4680-a079-f025b3e4c25d",
   "metadata": {},
   "outputs": [],
   "source": [
    "# Separate out transition matrix\n",
    "\n",
    "# Construct graph\n",
    "G = nx.Graph()\n",
    "G.add_nodes_from(GS_indices)\n",
    "for order in range(2**N):\n",
    "    coupling_coord = np.argwhere(Hamming_matrix == order)\n",
    "    # add edges indicating coupling between ground states\n",
    "    G.add_edges_from(lst2tuples(GS_indices[coupling_coord]))\n",
    "    number_connected_components = nx.number_connected_components(G)"
   ]
  },
  {
   "cell_type": "code",
   "execution_count": null,
   "id": "f01975ac-7d05-4f14-ba6f-544dc0e006b4",
   "metadata": {},
   "outputs": [],
   "source": [
    "# Separate out transition matrix\n",
    "\n",
    "# Construct graph\n",
    "G = nx.Graph()\n",
    "G.add_nodes_from(GS_indices)\n",
    "\n",
    "# initiate counter\n",
    "order = 0\n",
    "number_connected_components = 3\n",
    "\n",
    "while number_connected_components > 2:\n",
    "    coupling_coord = np.argwhere(Hamming_matrix == order)\n",
    "    # add edges indicating coupling between ground states\n",
    "    G.add_edges_from(lst2tuples(GS_indices[coupling_coord]))\n",
    "    number_connected_components = nx.number_connected_components(G)\n",
    "    print(number_connected_components)\n",
    "    print(order)\n",
    "    order += 1\n",
    "# print(order)"
   ]
  },
  {
   "cell_type": "code",
   "execution_count": null,
   "id": "87c1ba1e-cd90-48e4-8675-ecd570afd43f",
   "metadata": {},
   "outputs": [],
   "source": []
  }
 ],
 "metadata": {
  "kernelspec": {
   "display_name": "Python 3",
   "language": "python",
   "name": "python3"
  },
  "language_info": {
   "codemirror_mode": {
    "name": "ipython",
    "version": 3
   },
   "file_extension": ".py",
   "mimetype": "text/x-python",
   "name": "python",
   "nbconvert_exporter": "python",
   "pygments_lexer": "ipython3",
   "version": "3.8.8"
  }
 },
 "nbformat": 4,
 "nbformat_minor": 5
}
