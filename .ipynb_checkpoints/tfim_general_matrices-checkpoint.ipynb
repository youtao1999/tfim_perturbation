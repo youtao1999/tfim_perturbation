{
 "cells": [
  {
   "cell_type": "code",
   "execution_count": 11,
   "metadata": {},
   "outputs": [],
   "source": [
    "import tfim\n",
    "import tfim_matrices\n",
    "import numpy as np\n",
    "from scipy import sparse\n",
    "from scipy.sparse import linalg as spla\n",
    "from scipy import linalg\n",
    "from scipy.linalg import eigh\n",
    "import matplotlib.pyplot as plt\n",
    "from scipy import optimize\n",
    "import progressbar\n",
    "import argparse\n",
    "import os"
   ]
  },
  {
   "cell_type": "code",
   "execution_count": 12,
   "metadata": {},
   "outputs": [],
   "source": [
    "# Initial system specification\n",
    "L = [7]\n",
    "Jij_seed = 4\n",
    "h_x_range = np.arange(0, 0.01, 0.0002)"
   ]
  },
  {
   "cell_type": "code",
   "execution_count": 13,
   "metadata": {},
   "outputs": [],
   "source": [
    "PBC = True\n",
    "J = 1"
   ]
  },
  {
   "cell_type": "code",
   "execution_count": 14,
   "metadata": {},
   "outputs": [],
   "source": [
    "# Build lattice and basis\n",
    "###################################\n",
    "lattice = tfim.Lattice(L, PBC)\n",
    "N = lattice.N\n",
    "basis = tfim.IsingBasis(lattice)\n",
    "###################################\n",
    "\n",
    "#construct random J matrix\n",
    "Jij = tfim.Jij_instance(N,J,\"bimodal\",Jij_seed) "
   ]
  },
  {
   "cell_type": "code",
   "execution_count": 15,
   "metadata": {},
   "outputs": [
    {
     "name": "stderr",
     "output_type": "stream",
     "text": [
      "100% |########################################################################|\n"
     ]
    },
    {
     "name": "stdout",
     "output_type": "stream",
     "text": [
      "0 [0 0 0 0 0 0 0] 1.0\n",
      "1 [0 0 0 0 0 0 1] 9.0\n",
      "2 [0 0 0 0 0 1 0] 1.0\n",
      "3 [0 0 0 0 0 1 1] 5.0\n",
      "4 [0 0 0 0 1 0 0] -7.0\n",
      "5 [0 0 0 0 1 0 1] 5.0\n",
      "6 [0 0 0 0 1 1 0] -11.0\n",
      "7 [0 0 0 0 1 1 1] -3.0\n",
      "8 [0 0 0 1 0 0 0] 1.0\n",
      "9 [0 0 0 1 0 0 1] 5.0\n",
      "10 [0 0 0 1 0 1 0] -3.0\n",
      "11 [0 0 0 1 0 1 1] -3.0\n",
      "12 [0 0 0 1 1 0 0] -3.0\n",
      "13 [0 0 0 1 1 0 1] 5.0\n",
      "14 [0 0 0 1 1 1 0] -11.0\n",
      "15 [0 0 0 1 1 1 1] -7.0\n",
      "16 [0 0 1 0 0 0 0] -3.0\n",
      "17 [0 0 1 0 0 0 1] 1.0\n",
      "18 [0 0 1 0 0 1 0] 1.0\n",
      "19 [0 0 1 0 0 1 1] 1.0\n",
      "20 [0 0 1 0 1 0 0] -7.0\n",
      "21 [0 0 1 0 1 0 1] 1.0\n",
      "22 [0 0 1 0 1 1 0] -7.0\n",
      "23 [0 0 1 0 1 1 1] -3.0\n",
      "24 [0 0 1 1 0 0 0] 1.0\n",
      "25 [0 0 1 1 0 0 1] 1.0\n",
      "26 [0 0 1 1 0 1 0] 1.0\n",
      "27 [0 0 1 1 0 1 1] -3.0\n",
      "28 [0 0 1 1 1 0 0] 1.0\n",
      "29 [0 0 1 1 1 0 1] 5.0\n",
      "30 [0 0 1 1 1 1 0] -3.0\n",
      "31 [0 0 1 1 1 1 1] -3.0\n",
      "32 [0 1 0 0 0 0 0] 1.0\n",
      "33 [0 1 0 0 0 0 1] 5.0\n",
      "34 [0 1 0 0 0 1 0] 5.0\n",
      "35 [0 1 0 0 0 1 1] 5.0\n",
      "36 [0 1 0 0 1 0 0] -3.0\n",
      "37 [0 1 0 0 1 0 1] 5.0\n",
      "38 [0 1 0 0 1 1 0] -3.0\n",
      "39 [0 1 0 0 1 1 1] 1.0\n",
      "40 [0 1 0 1 0 0 0] -3.0\n",
      "41 [0 1 0 1 0 0 1] -3.0\n",
      "42 [0 1 0 1 0 1 0] -3.0\n",
      "43 [0 1 0 1 0 1 1] -7.0\n",
      "44 [0 1 0 1 1 0 0] -3.0\n",
      "45 [0 1 0 1 1 0 1] 1.0\n",
      "46 [0 1 0 1 1 1 0] -7.0\n",
      "47 [0 1 0 1 1 1 1] -7.0\n",
      "48 [0 1 1 0 0 0 0] 1.0\n",
      "49 [0 1 1 0 0 0 1] 1.0\n",
      "50 [0 1 1 0 0 1 0] 9.0\n",
      "51 [0 1 1 0 0 1 1] 5.0\n",
      "52 [0 1 1 0 1 0 0] 1.0\n",
      "53 [0 1 1 0 1 0 1] 5.0\n",
      "54 [0 1 1 0 1 1 0] 5.0\n",
      "55 [0 1 1 0 1 1 1] 5.0\n",
      "56 [0 1 1 1 0 0 0] 1.0\n",
      "57 [0 1 1 1 0 0 1] -3.0\n",
      "58 [0 1 1 1 0 1 0] 5.0\n",
      "59 [0 1 1 1 0 1 1] -3.0\n",
      "60 [0 1 1 1 1 0 0] 5.0\n",
      "61 [0 1 1 1 1 0 1] 5.0\n",
      "62 [0 1 1 1 1 1 0] 5.0\n",
      "63 [0 1 1 1 1 1 1] 1.0\n",
      "64 [1 0 0 0 0 0 0] 1.0\n",
      "65 [1 0 0 0 0 0 1] 5.0\n",
      "66 [1 0 0 0 0 1 0] 5.0\n",
      "67 [1 0 0 0 0 1 1] 5.0\n",
      "68 [1 0 0 0 1 0 0] -3.0\n",
      "69 [1 0 0 0 1 0 1] 5.0\n",
      "70 [1 0 0 0 1 1 0] -3.0\n",
      "71 [1 0 0 0 1 1 1] 1.0\n",
      "72 [1 0 0 1 0 0 0] 5.0\n",
      "73 [1 0 0 1 0 0 1] 5.0\n",
      "74 [1 0 0 1 0 1 0] 5.0\n",
      "75 [1 0 0 1 0 1 1] 1.0\n",
      "76 [1 0 0 1 1 0 0] 5.0\n",
      "77 [1 0 0 1 1 0 1] 9.0\n",
      "78 [1 0 0 1 1 1 0] 1.0\n",
      "79 [1 0 0 1 1 1 1] 1.0\n",
      "80 [1 0 1 0 0 0 0] -7.0\n",
      "81 [1 0 1 0 0 0 1] -7.0\n",
      "82 [1 0 1 0 0 1 0] 1.0\n",
      "83 [1 0 1 0 0 1 1] -3.0\n",
      "84 [1 0 1 0 1 0 0] -7.0\n",
      "85 [1 0 1 0 1 0 1] -3.0\n",
      "86 [1 0 1 0 1 1 0] -3.0\n",
      "87 [1 0 1 0 1 1 1] -3.0\n",
      "88 [1 0 1 1 0 0 0] 1.0\n",
      "89 [1 0 1 1 0 0 1] -3.0\n",
      "90 [1 0 1 1 0 1 0] 5.0\n",
      "91 [1 0 1 1 0 1 1] -3.0\n",
      "92 [1 0 1 1 1 0 0] 5.0\n",
      "93 [1 0 1 1 1 0 1] 5.0\n",
      "94 [1 0 1 1 1 1 0] 5.0\n",
      "95 [1 0 1 1 1 1 1] 1.0\n",
      "96 [1 1 0 0 0 0 0] -3.0\n",
      "97 [1 1 0 0 0 0 1] -3.0\n",
      "98 [1 1 0 0 0 1 0] 5.0\n",
      "99 [1 1 0 0 0 1 1] 1.0\n",
      "100 [1 1 0 0 1 0 0] -3.0\n",
      "101 [1 1 0 0 1 0 1] 1.0\n",
      "102 [1 1 0 0 1 1 0] 1.0\n",
      "103 [1 1 0 0 1 1 1] 1.0\n",
      "104 [1 1 0 1 0 0 0] -3.0\n",
      "105 [1 1 0 1 0 0 1] -7.0\n",
      "106 [1 1 0 1 0 1 0] 1.0\n",
      "107 [1 1 0 1 0 1 1] -7.0\n",
      "108 [1 1 0 1 1 0 0] 1.0\n",
      "109 [1 1 0 1 1 0 1] 1.0\n",
      "110 [1 1 0 1 1 1 0] 1.0\n",
      "111 [1 1 0 1 1 1 1] -3.0\n",
      "112 [1 1 1 0 0 0 0] -7.0\n",
      "113 [1 1 1 0 0 0 1] -11.0\n",
      "114 [1 1 1 0 0 1 0] 5.0\n",
      "115 [1 1 1 0 0 1 1] -3.0\n",
      "116 [1 1 1 0 1 0 0] -3.0\n",
      "117 [1 1 1 0 1 0 1] -3.0\n",
      "118 [1 1 1 0 1 1 0] 5.0\n",
      "119 [1 1 1 0 1 1 1] 1.0\n",
      "120 [1 1 1 1 0 0 0] -3.0\n",
      "121 [1 1 1 1 0 0 1] -11.0\n",
      "122 [1 1 1 1 0 1 0] 5.0\n",
      "123 [1 1 1 1 0 1 1] -7.0\n",
      "124 [1 1 1 1 1 0 0] 5.0\n",
      "125 [1 1 1 1 1 0 1] 1.0\n",
      "126 [1 1 1 1 1 1 0] 9.0\n",
      "127 [1 1 1 1 1 1 1] 1.0\n"
     ]
    }
   ],
   "source": [
    "# List out all the spin_states, corresponding indices and energies\n",
    "Energies = -tfim.JZZ_SK_ME(basis,Jij)\n",
    "for index in range(2**N):\n",
    "    print index, basis.state(index), Energies[index]"
   ]
  },
  {
   "cell_type": "code",
   "execution_count": 16,
   "metadata": {},
   "outputs": [],
   "source": [
    "# we define Q_1 to be the excited states of hamming distance 1 from the ground states\n",
    "\n",
    "def GS(Energies):\n",
    "    GS_energy = np.min(Energies)\n",
    "    GS_indices = np.nonzero(Energies == GS_energy)[0]\n",
    "    return GS_energy, GS_indices\n",
    "\n",
    "def ES(Energies):\n",
    "    ES_energy = Energies[Energies != GS_energy]\n",
    "    ES_indices = np.nonzero(Energies != GS_energy)[0]\n",
    "    return ES_energy, ES_indices\n",
    "\n",
    "# Nondegenerate excited state ordering issue? "
   ]
  },
  {
   "cell_type": "markdown",
   "metadata": {},
   "source": [
    "use the Hamming_set function to generate the input_state_indices for PVP, PVQ, QVQ ... matrices"
   ]
  },
  {
   "cell_type": "markdown",
   "metadata": {},
   "source": [
    "Now, we aim to use the generalized matrices notation to build the second order Hamiltonian under perturbation."
   ]
  },
  {
   "cell_type": "code",
   "execution_count": 17,
   "metadata": {},
   "outputs": [],
   "source": [
    "# Generate GS_indices, GS_energies, ES_indices, ES_energies\n",
    "\n",
    "GS_energy, GS_indices = GS(Energies)\n",
    "ES_energy, ES_indices = ES(Energies)"
   ]
  },
  {
   "cell_type": "code",
   "execution_count": 18,
   "metadata": {},
   "outputs": [
    {
     "name": "stderr",
     "output_type": "stream",
     "text": [
      "tfim_matrices.py:55: RuntimeWarning: divide by zero encountered in double_scalars\n",
      "  PVQ[row, column] -= 1/energy_gap\n"
     ]
    }
   ],
   "source": [
    "# Start building the 2nd Hamiltonian\n",
    "\n",
    "# PVQ matrix maps all the ground states into the first excited states\n",
    "ES_1_indices = tfim_matrices.Hamming_set(basis, GS_indices, N, GS_indices)\n",
    "ES_2_indices = tfim_matrices.Hamming_set(basis, ES_1_indices, N, GS_indices)\n",
    "PVQ = tfim_matrices.PVQ_1(basis, Jij, GS_indices, ES_1_indices, N, GS_energy)\n",
    "QVP = np.transpose(PVQ)\n",
    "# question: aren't we over multiplying by a 1/(E_0-QH_0Q) factor"
   ]
  },
  {
   "cell_type": "code",
   "execution_count": 19,
   "metadata": {},
   "outputs": [],
   "source": [
    "# Experimenting with fourth order perturbation \n",
    "\n",
    "# question: for 03000 is the 1/(E_0-QH_0Q) factor always following PVQ1?\n",
    "# also, for QVQ terms, how do we know which is Q1VQ1 and which is Q1VQ2?\n",
    "\n",
    "# Need Q1VQ2 term\n",
    "\n",
    "def Q_1VQ_2(basis, ES_1_indices, ES_2_indices, GS_indices, N):\n",
    "    #ES_2_indices denotes the indices of all the states that are one Hamming distance away from ES_1_indices\n",
    "    # QVQ matrix\n",
    "    QVQ = np.zeros((len(ES_2_indices), len(ES_1_indices)))\n",
    "    for column, ket in enumerate(ES_1_indices):\n",
    "        state = basis.state(ket)\n",
    "        for i in range(N):\n",
    "            basis.flip(state, i)\n",
    "            bra = basis.index(state)\n",
    "            subspace_index = np.argwhere(ES_2_indices == bra)\n",
    "            if len(subspace_index) > 0 and subspace_index not in GS_indices:\n",
    "                row = subspace_index[0][0]\n",
    "                QVQ[row, column] += 1\n",
    "            basis.flip(state,i)\n",
    "    return QVQ"
   ]
  },
  {
   "cell_type": "code",
   "execution_count": 21,
   "metadata": {},
   "outputs": [
    {
     "data": {
      "text/plain": [
       "array([[1., 1., 0., ..., 0., 0., 0.],\n",
       "       [0., 0., 0., ..., 0., 0., 0.],\n",
       "       [1., 0., 1., ..., 0., 0., 0.],\n",
       "       ...,\n",
       "       [0., 0., 0., ..., 1., 0., 1.],\n",
       "       [0., 0., 0., ..., 0., 0., 0.],\n",
       "       [0., 0., 0., ..., 0., 1., 1.]])"
      ]
     },
     "execution_count": 21,
     "metadata": {},
     "output_type": "execute_result"
    }
   ],
   "source": [
    "Q_1VQ_2(basis, ES_1_indices, ES_2_indices, GS_indices, N)"
   ]
  },
  {
   "cell_type": "code",
   "execution_count": null,
   "metadata": {},
   "outputs": [],
   "source": []
  }
 ],
 "metadata": {
  "kernelspec": {
   "display_name": "Python 2",
   "language": "python",
   "name": "python2"
  },
  "language_info": {
   "codemirror_mode": {
    "name": "ipython",
    "version": 2
   },
   "file_extension": ".py",
   "mimetype": "text/x-python",
   "name": "python",
   "nbconvert_exporter": "python",
   "pygments_lexer": "ipython2",
   "version": "2.7.18"
  }
 },
 "nbformat": 4,
 "nbformat_minor": 2
}
