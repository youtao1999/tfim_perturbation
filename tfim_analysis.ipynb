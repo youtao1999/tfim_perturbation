{
 "cells": [
  {
   "cell_type": "code",
   "execution_count": 35,
   "metadata": {},
   "outputs": [],
   "source": [
    "import tfim\n",
    "import tfim_perturbation\n",
    "import numpy as np\n",
    "from scipy import sparse\n",
    "from scipy.sparse import linalg as spla\n",
    "from scipy import linalg\n",
    "import matplotlib.pyplot as plt\n",
    "from scipy import optimize\n",
    "import progressbar"
   ]
  },
  {
   "cell_type": "code",
   "execution_count": 36,
   "metadata": {},
   "outputs": [],
   "source": [
    "# Initial system specification\n",
    "L = [4]\n",
    "Jij_seed = 7\n",
    "h_x_range = np.arange(0, 0.1, 0.001)"
   ]
  },
  {
   "cell_type": "code",
   "execution_count": 37,
   "metadata": {},
   "outputs": [],
   "source": [
    "PBC = True\n",
    "J = 1"
   ]
  },
  {
   "cell_type": "code",
   "execution_count": 38,
   "metadata": {},
   "outputs": [],
   "source": [
    "# Build lattice and basis\n",
    "###################################\n",
    "lattice = tfim.Lattice(L, PBC)\n",
    "N = lattice.N\n",
    "basis = tfim.IsingBasis(lattice)\n",
    "###################################\n",
    "\n",
    "#construct random J matrix\n",
    "Jij = tfim.Jij_instance(N,J,\"bimodal\",7) "
   ]
  },
  {
   "cell_type": "code",
   "execution_count": 39,
   "metadata": {},
   "outputs": [
    {
     "name": "stderr",
     "output_type": "stream",
     "text": [
      "100% |########################################################################|\r"
     ]
    },
    {
     "name": "stdout",
     "output_type": "stream",
     "text": [
      "0 [0 0 0 0] -0.0\n",
      "1 [0 0 0 1] 2.0\n",
      "2 [0 0 1 0] -6.0\n",
      "3 [0 0 1 1] -0.0\n",
      "4 [0 1 0 0] 2.0\n",
      "5 [0 1 0 1] -0.0\n",
      "6 [0 1 1 0] -0.0\n",
      "7 [0 1 1 1] 2.0\n",
      "8 [1 0 0 0] 2.0\n",
      "9 [1 0 0 1] -0.0\n",
      "10 [1 0 1 0] -0.0\n",
      "11 [1 0 1 1] 2.0\n",
      "12 [1 1 0 0] -0.0\n",
      "13 [1 1 0 1] -6.0\n",
      "14 [1 1 1 0] 2.0\n",
      "15 [1 1 1 1] -0.0\n"
     ]
    },
    {
     "name": "stderr",
     "output_type": "stream",
     "text": [
      "\n"
     ]
    }
   ],
   "source": [
    "# List out all the spin_states, corresponding indices and energies\n",
    "Energies = -tfim.JZZ_SK_ME(basis,Jij)\n",
    "for index in range(2**N):\n",
    "    print index, basis.state(index), Energies[index]"
   ]
  },
  {
   "cell_type": "code",
   "execution_count": 40,
   "metadata": {},
   "outputs": [],
   "source": [
    "# Build 2nd order approximated matrix\n",
    "\n",
    "GS_energy, GS_indices = tfim_perturbation.GS(Energies)\n",
    "\n",
    "H_0 = tfim_perturbation.H_0(GS_energy, GS_indices)\n",
    "\n",
    "H_app_1 = tfim_perturbation.H_app_1(basis, GS_indices, N)\n",
    "\n",
    "H_app_2 = tfim_perturbation.H_app_2(basis, Jij, GS_indices, N, GS_energy)"
   ]
  },
  {
   "cell_type": "code",
   "execution_count": 41,
   "metadata": {},
   "outputs": [
    {
     "ename": "AttributeError",
     "evalue": "'module' object has no attribute 'V_exact'",
     "output_type": "error",
     "traceback": [
      "\u001b[1;31m\u001b[0m",
      "\u001b[1;31mAttributeError\u001b[0mTraceback (most recent call last)",
      "\u001b[1;32m<ipython-input-41-78152983ebdc>\u001b[0m in \u001b[0;36m<module>\u001b[1;34m()\u001b[0m\n\u001b[0;32m      1\u001b[0m \u001b[1;31m# Build exact matrix\u001b[0m\u001b[1;33m\u001b[0m\u001b[1;33m\u001b[0m\u001b[0m\n\u001b[0;32m      2\u001b[0m \u001b[1;33m\u001b[0m\u001b[0m\n\u001b[1;32m----> 3\u001b[1;33m \u001b[0mV_exc\u001b[0m \u001b[1;33m=\u001b[0m \u001b[0mtfim_perturbation\u001b[0m\u001b[1;33m.\u001b[0m\u001b[0mV_exact\u001b[0m\u001b[1;33m(\u001b[0m\u001b[0mbasis\u001b[0m\u001b[1;33m)\u001b[0m\u001b[1;33m\u001b[0m\u001b[0m\n\u001b[0m\u001b[0;32m      4\u001b[0m \u001b[1;33m\u001b[0m\u001b[0m\n\u001b[0;32m      5\u001b[0m \u001b[0mH_0_exc\u001b[0m \u001b[1;33m=\u001b[0m \u001b[0mtfim_perturbation\u001b[0m\u001b[1;33m.\u001b[0m\u001b[0mH_0_exact\u001b[0m\u001b[1;33m(\u001b[0m\u001b[0mEnergies\u001b[0m\u001b[1;33m)\u001b[0m\u001b[1;33m\u001b[0m\u001b[0m\n",
      "\u001b[1;31mAttributeError\u001b[0m: 'module' object has no attribute 'V_exact'"
     ]
    }
   ],
   "source": [
    "# Build exact matrix\n",
    "V_exc = tfim_perturbation.V_exact(basis)\n",
    "\n",
    "H_0_exc = tfim_perturbation.H_0_exact(Energies)"
   ]
  },
  {
   "cell_type": "code",
   "execution_count": 42,
   "metadata": {},
   "outputs": [
    {
     "ename": "AttributeError",
     "evalue": "'module' object has no attribute 'app_eigensystem'",
     "output_type": "error",
     "traceback": [
      "\u001b[1;31m\u001b[0m",
      "\u001b[1;31mAttributeError\u001b[0mTraceback (most recent call last)",
      "\u001b[1;32m<ipython-input-42-4a842272c1f5>\u001b[0m in \u001b[0;36m<module>\u001b[1;34m()\u001b[0m\n\u001b[0;32m      1\u001b[0m \u001b[1;31m# Calculate eigenvalues and eigenstates for range(h_x)\u001b[0m\u001b[1;33m\u001b[0m\u001b[1;33m\u001b[0m\u001b[0m\n\u001b[1;32m----> 2\u001b[1;33m \u001b[0mapp_eigenvalues\u001b[0m\u001b[1;33m,\u001b[0m \u001b[0mapp_eigenstates\u001b[0m \u001b[1;33m=\u001b[0m \u001b[0mtfim_perturbation\u001b[0m\u001b[1;33m.\u001b[0m\u001b[0mapp_eigensystem\u001b[0m\u001b[1;33m(\u001b[0m\u001b[0mGS_indices\u001b[0m\u001b[1;33m,\u001b[0m \u001b[0mh_x_range\u001b[0m\u001b[1;33m)\u001b[0m\u001b[1;33m\u001b[0m\u001b[0m\n\u001b[0m",
      "\u001b[1;31mAttributeError\u001b[0m: 'module' object has no attribute 'app_eigensystem'"
     ]
    }
   ],
   "source": [
    "# Calculate approximated eigenvalues and eigenstates for range(h_x)\n",
    "app_eigenvalues, app_eigenstates = tfim_perturbation.app_eigensystem(GS_indices, h_x_range)"
   ]
  },
  {
   "cell_type": "code",
   "execution_count": null,
   "metadata": {},
   "outputs": [],
   "source": [
    "# Calculate exact eigenvalues and eigenstates for range(h_x)\n",
    "exc_eigenvalues, exc_eigenstates = tfim_perturbation.exc_eigensystem(GS_indices, h_x_range)"
   ]
  },
  {
   "cell_type": "code",
   "execution_count": null,
   "metadata": {},
   "outputs": [],
   "source": [
    "# Plot app GS energy vs h_x\n",
    "for i in range(len(GS_indices)):\n",
    "    app_GS_energy_plot = plt.plot(h_x_range, app_eigenvalues[i])\n",
    "\n",
    "plt.ylabel(\"Approximated GS energy eigenvalues\")\n",
    "plt.show(app_GS_energy_plot)"
   ]
  },
  {
   "cell_type": "code",
   "execution_count": null,
   "metadata": {},
   "outputs": [],
   "source": [
    "# Plot exc GS energy vs h_x\n",
    "for i in range(len(GS_indices)):\n",
    "    exc_GS_energy_plot = plt.plot(h_x_range, exc_eigenvalues[i])\n",
    "\n",
    "plt.ylabel(\"Exact GS energy eigenvalues\")\n",
    "plt.show(exc_GS_energy_plot)"
   ]
  },
  {
   "cell_type": "code",
   "execution_count": null,
   "metadata": {},
   "outputs": [],
   "source": [
    "# Compare the exact and approximated GS energies\n",
    "\n",
    "for i in range(len(GS_indices)):\n",
    "    plt.plot(h_x_range, app_eigenvalues[i], h_x_range, exc_eigenvalues[i])"
   ]
  },
  {
   "cell_type": "code",
   "execution_count": null,
   "metadata": {},
   "outputs": [],
   "source": [
    "# Calculate and plot energy errors\n",
    "\n",
    "corrected_exc_eigenvalues = np.zeros((len(GS_indices), len(h_x_range)))\n",
    "\n",
    "for i in range(len(GS_indices)):\n",
    "    for j in range(len(h_x_range)):\n",
    "        corrected_exc_eigenvalues[i, j] = exc_eigenvalues[i, j]\n",
    "\n",
    "error_array = np.absolute(corrected_exc_eigenvalues - app_eigenvalues)\n",
    "\n",
    "# Curve fit\n",
    "\n",
    "for i in range(len(GS_indices)):\n",
    "    popt, pcov = optimize.curve_fit(poly_3, h_x_range, error_array[i])\n",
    "    GS_energy_error_plot = plt.plot(h_x_range, error_array[i])\n",
    "    plt.plot(h_x_range, tfim_perturbation.poly_3(h_x_range, *popt))"
   ]
  },
  {
   "cell_type": "code",
   "execution_count": null,
   "metadata": {},
   "outputs": [],
   "source": [
    "# Calculate probabilities for approximated eigenstates\n",
    "\n",
    "prob_app = tfim_perturbation.prob_app(GS_indices, h_x_range, app_eigenstates)\n",
    "\n",
    "# Plot probabilities for finding six bases states for system in ground eigenstate (approximated)\n",
    "\n",
    "for i in range(len(GS_indices)):\n",
    "    app_GS_probability_plot = plt.scatter(h_x_range, prob_app[i])\n",
    "\n",
    "plt.ylabel(\"GS probability for finding given basis state in approximated Hamiltonian\")\n",
    "plt.show(app_GS_probability_plot)"
   ]
  },
  {
   "cell_type": "code",
   "execution_count": null,
   "metadata": {},
   "outputs": [],
   "source": [
    "# Calculate probabilities for exact eigenstates\n",
    "\n",
    "prob_exc = tfim_perturbation.prob_exc(GS_indices, h_x_range, exc_eigenstates)\n",
    "\n",
    "# Plot probabilities for finding six bases states for system in ground eigenstate (exact)\n",
    "\n",
    "for i in range(len(GS_indices)):\n",
    "    exc_GS_probability_plot = plt.scatter(h_x_range, prob_exc[i])\n",
    "\n",
    "plt.ylabel(\"GS probability for finding given basis state in exact Hamiltonian\")\n",
    "plt.show(exc_GS_probability_plot)"
   ]
  },
  {
   "cell_type": "code",
   "execution_count": null,
   "metadata": {},
   "outputs": [],
   "source": [
    "# Compare probabilities\n",
    "\n",
    "for i in range(len(GS_indices)):\n",
    "    plt.plot(h_x_range, prob_app[i], h_x_range, prob_exc[i])"
   ]
  },
  {
   "cell_type": "code",
   "execution_count": null,
   "metadata": {},
   "outputs": [],
   "source": [
    "# Calculate and plot probability errors\n",
    "\n",
    "prob_error_array = np.absolute(prob_app - prob_exc)\n",
    "\n",
    "# Curve fit\n",
    "for i in range(len(GS_indices)):\n",
    "    popt, pcov = optimize.curve_fit(poly_2, h_x_range, prob_error_array[i])\n",
    "    GS_probability_error_plot = plt.plot(h_x_range, prob_error_array[i])\n",
    "    plt.plot(h_x_range, tfim_perturbation.poly_2(h_x_range, *popt))"
   ]
  },
  {
   "cell_type": "code",
   "execution_count": null,
   "metadata": {},
   "outputs": [],
   "source": [
    "# Probability of finding the exact system to be in excited states\n",
    "prob_exc_total = tfim_perturbation.prob_exc_total(GS_indices, h_x_range, exc_eigenstates)\n",
    "\n",
    "prob_excited_sum = tfim_perturbation.prob_excited_sum(GS_indices, h_x_range, prob_exc_total)\n",
    "\n",
    "for i in range(len(GS_indices)):\n",
    "    popt, pcov = optimize.curve_fit(poly_2, h_x_range, prob_excited_sum[i])\n",
    "    plt.plot(h_x_range, prob_excited_sum[i], h_x_range, tfim_perturbation.poly_2(h_x_range, *popt))"
   ]
  },
  {
   "cell_type": "code",
   "execution_count": null,
   "metadata": {},
   "outputs": [],
   "source": [
    "# Plot fidelity\n",
    "\n",
    "# Extract ground states from exc_states matrix and renormalize\n",
    "\n",
    "GS_exc_eigenstates = tfim_perturbation.GS_exc_eigenstates(GS_indices, h_x_range, exc_eigenstates)\n",
    "\n",
    "# Identify energy levels, sort, and calculate fidelity_array to be plotted\n",
    "GS_exc_eigenvalues = exc_eigenvalues[0:6]\n",
    "fidelity_array = tfim_perturbation.fidelity_array(GS_indices, h_x_range, GS_exc_eigenvalues, app_eigenvalues)\n",
    "\n",
    "# Plot fidelity array\n",
    "for i in range(len(GS_indices)):\n",
    "    plt.plot(h_x_range, fidelity_array[i])"
   ]
  },
  {
   "cell_type": "code",
   "execution_count": null,
   "metadata": {},
   "outputs": [],
   "source": [
    "# Plot infidelity\n",
    "\n",
    "infidelity_array = tfim_perturbation.infidelity_array(fidelity_array)\n",
    "\n",
    "for i in range(len(GS_indices)):\n",
    "    popt, pcov = optimize.curve_fit(poly_2, h_x_range, infidelity_array[i])\n",
    "    plt.plot(h_x_range, infidelity_array[i], h_x_range, poly_2(h_x_range, *popt))"
   ]
  }
 ],
 "metadata": {
  "kernelspec": {
   "display_name": "Python 2",
   "language": "python",
   "name": "python2"
  },
  "language_info": {
   "codemirror_mode": {
    "name": "ipython",
    "version": 2
   },
   "file_extension": ".py",
   "mimetype": "text/x-python",
   "name": "python",
   "nbconvert_exporter": "python",
   "pygments_lexer": "ipython2",
   "version": "2.7.18"
  }
 },
 "nbformat": 4,
 "nbformat_minor": 2
}
