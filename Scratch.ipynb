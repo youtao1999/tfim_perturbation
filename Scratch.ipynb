{
 "cells": [
  {
   "cell_type": "code",
   "execution_count": 10,
   "metadata": {},
   "outputs": [
    {
     "name": "stdout",
     "output_type": "stream",
     "text": [
      "(3, 0, 0, 0)\n",
      "(2, 1, 0, 0)\n",
      "(2, 0, 1, 0)\n",
      "(2, 0, 0, 1)\n",
      "(1, 2, 0, 0)\n",
      "(1, 1, 1, 0)\n",
      "(1, 1, 0, 1)\n",
      "(1, 0, 2, 0)\n",
      "(1, 0, 1, 1)\n",
      "(1, 0, 0, 2)\n",
      "(0, 3, 0, 0)\n",
      "(0, 2, 1, 0)\n",
      "(0, 2, 0, 1)\n",
      "(0, 1, 2, 0)\n",
      "(0, 1, 1, 1)\n",
      "(0, 1, 0, 2)\n",
      "(0, 0, 3, 0)\n",
      "(0, 0, 2, 1)\n",
      "(0, 0, 1, 2)\n",
      "(0, 0, 0, 3)\n",
      "Number of compositions: 20\n"
     ]
    }
   ],
   "source": [
    "def constrained_partitions(n, k, min_elem, max_elem):\n",
    "    allowed = range(max_elem, min_elem-1, -1)\n",
    "\n",
    "    def helper(n, k, t):\n",
    "        if k == 0:\n",
    "            if n == 0:\n",
    "                yield t\n",
    "        elif k == 1:\n",
    "            if n in allowed:\n",
    "                yield t + (n,)\n",
    "        elif min_elem * k <= n <= max_elem * k:\n",
    "            for v in allowed:\n",
    "                yield from helper(n - v, k - 1, t + (v,))\n",
    "\n",
    "    return helper(n, k, ())\n",
    "\n",
    "# Generate p_bar compositions\n",
    "def p_bar(n):\n",
    "    counter = 0\n",
    "    for p in constrained_partitions(n,n+1,0,n):\n",
    "        counter += 1\n",
    "        print(p)\n",
    "    print(\"Number of compositions: \" + str(counter))\n",
    "\n",
    "p_bar(3)"
   ]
  }
 ],
 "metadata": {
  "kernelspec": {
   "display_name": "Python 3",
   "language": "python",
   "name": "python3"
  },
  "language_info": {
   "codemirror_mode": {
    "name": "ipython",
    "version": 3
   },
   "file_extension": ".py",
   "mimetype": "text/x-python",
   "name": "python",
   "nbconvert_exporter": "python",
   "pygments_lexer": "ipython3",
   "version": "3.7.6"
  }
 },
 "nbformat": 4,
 "nbformat_minor": 4
}
