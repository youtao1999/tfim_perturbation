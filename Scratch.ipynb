{
 "cells": [
  {
   "cell_type": "code",
   "execution_count": 1,
   "metadata": {},
   "outputs": [
    {
     "name": "stderr",
     "output_type": "stream",
     "text": [
      "100% |########################################################################|\n"
     ]
    },
    {
     "name": "stdout",
     "output_type": "stream",
     "text": [
      "(200,)\n"
     ]
    },
    {
     "data": {
      "text/plain": [
       "<matplotlib.collections.PathCollection at 0x162581f2088>"
      ]
     },
     "execution_count": 1,
     "metadata": {},
     "output_type": "execute_result"
    },
    {
     "data": {
      "image/png": "[encoded data removed]",
      "text/plain": [
       "<Figure size 432x288 with 1 Axes>"
      ]
     },
     "metadata": {
      "needs_background": "light"
     },
     "output_type": "display_data"
    }
   ],
   "source": [
    "import matplotlib.pyplot as plt\n",
    "import numpy as np\n",
    "from scipy.linalg import eigh\n",
    "from scipy.optimize import minimize\n",
    "import tfim\n",
    "import tfim_perturbation\n",
    "\n",
    "# Initial system specification\n",
    "L = [3]\n",
    "Jij_seed = 19\n",
    "h_x_range = np.arange(0, 0.001, 0.00002)\n",
    "\n",
    "PBC = True\n",
    "J = 1\n",
    "\n",
    "# Build lattice and basis\n",
    "###################################\n",
    "lattice = tfim.Lattice(L, PBC)\n",
    "N = lattice.N\n",
    "basis = tfim.IsingBasis(lattice)\n",
    "###################################\n",
    "\n",
    "#construct random J matrix\n",
    "Jij = tfim.Jij_instance(N,J,\"bimodal\",Jij_seed)\n",
    "\n",
    "# List out all the spin_states, corresponding indices and energies\n",
    "Energies = -tfim.JZZ_SK_ME(basis,Jij)\n",
    "# for index in range(2**N):\n",
    "#     print(index, basis.state(index), Energies[index])\n",
    "\n",
    "#construct random J matrix\n",
    "Jij = tfim.Jij_instance(N,J,\"bimodal\",Jij_seed)\n",
    "\n",
    "# Build 2nd order approximated matrix\n",
    "\n",
    "GS_energy, GS_indices = tfim_perturbation.GS(Energies)\n",
    "\n",
    "H_app_0 = tfim_perturbation.H_app_0(GS_energy, GS_indices)\n",
    "\n",
    "H_app_1 = tfim_perturbation.H_app_1(basis, GS_indices, N)\n",
    "\n",
    "# Parametrize H_app_2\n",
    "\n",
    "def H_app_2(basis, Jij, GS_indices, N, GS_energy):\n",
    "    # Second-Order term in perturbation theory\n",
    "    H_app_2 = np.zeros((len(GS_indices), len(GS_indices)))\n",
    "\n",
    "    for column, GS_ket_1 in enumerate(GS_indices):\n",
    "        state_1 = basis.state(GS_ket_1)\n",
    "        for i in range(N):\n",
    "            basis.flip(state_1, i)\n",
    "            state_1_flipped_index = basis.index(state_1)\n",
    "            if state_1_flipped_index not in GS_indices:\n",
    "                energy_gap = tfim_perturbation.state_energy(basis, Jij, state_1_flipped_index) - GS_energy\n",
    "                for j in range(N):\n",
    "                    basis.flip(state_1, j)\n",
    "                    ES_2_flipped_index = basis.index(state_1)\n",
    "                    GS_2_index = np.argwhere(np.array(GS_indices) == ES_2_flipped_index)\n",
    "                    if len(GS_2_index) > 0:\n",
    "                        row = GS_2_index[0][0]\n",
    "                        H_app_2[row, column] -= 1. / energy_gap\n",
    "                    basis.flip(state_1, j)\n",
    "            basis.flip(state_1, i)\n",
    "    return H_app_2\n",
    "\n",
    "# 2nd order term\n",
    "\n",
    "H_app_2 = H_app_2(basis, Jij, GS_indices, N, GS_energy)\n",
    "\n",
    "# Build exact matrix\n",
    "V_exc = tfim_perturbation.V_exact(basis, lattice)\n",
    "H_0_exc = tfim_perturbation.H_0_exact(Energies)\n",
    "\n",
    "# Build H_app_2nd\n",
    "\n",
    "def H_app_2_param(h_x, param):\n",
    "    return H_app_0 + h_x*H_app_1 + np.power(h_x, 2.)*param*H_app_2\n",
    "\n",
    "# Define error function to be minimized\n",
    "def err(x):\n",
    "    param = x[0]\n",
    "    alpha = x[1]\n",
    "    # alpha is the fitting parameter for the 3rd order polynomial\n",
    "    error_arr = np.zeros(np.shape(h_x_range))\n",
    "    for i, h_x in enumerate(h_x_range):\n",
    "        H_app = H_app_2_param(h_x, param)\n",
    "        # Calculate the energy eigenvalue of the approximated 2nd order matrix\n",
    "        app_eigenvalues, app_eigenstates = eigh(H_app)\n",
    "        # print(app_eigenvalues)\n",
    "        app_GS_eigenvalue = min(app_eigenvalues)\n",
    "        # Calculate exact eigenvalues and eigenstates for range(h_x)\n",
    "        exc_eigenvalues, exc_eigenstates = tfim_perturbation.exc_eigensystem(basis, h_x_range, lattice, Energies)\n",
    "        # print(exc_eigenvalues)\n",
    "        exc_GS_eigenvalue = min(exc_eigenvalues[:,i])\n",
    "        error_arr[i] = abs(abs(app_GS_eigenvalue-exc_GS_eigenvalue) - alpha*np.power(h_x, 3.))\n",
    "    # print(error_arr)\n",
    "    return np.sqrt(sum(np.power(error_arr, 2.)))\n",
    "\n",
    "# # Perform optimization\n",
    "# x_0 = [100., 100.]\n",
    "# res = minimize(err, x_0, method = 'Nelder-Mead')\n",
    "# # print(\"optimized perturbation parameter: \", res.x[0], \"optimized curve fitting parameter: \", res.x[1])\n",
    "# print(res.x)\n",
    "\n",
    "# # Fixed alpha and plot error function\n",
    "# length = 100\n",
    "# x_arr = np.zeros((length,2))\n",
    "# x_arr[:,0] = np.linspace(-1., 1., length)\n",
    "# x_arr[:,1] = 0.37*np.ones(length)\n",
    "# err_arr = np.zeros(np.shape(x_arr[:,0]))\n",
    "# for i in range(len(x_arr[:, 0])):\n",
    "#     err_arr[i] = err(x_arr[i, 0])\n",
    "# fig = pl.figure(figsize=(8, 6))\n",
    "# pl.rcParams['font.size'] = '18'\n",
    "# pl.plot(x_arr[:,0],err_arr/len(err_arr), lw=1.3, ls='-', color=\"blue\")\n",
    "# pl.ylabel(r'$Error$', fontsize=18)\n",
    "# pl.xlabel('Coefficient for 2nd order', fontsize=18)\n",
    "# pl.xticks(fontsize=18)\n",
    "# pl.yticks(fontsize=18)\n",
    "# pl.tick_params('both', length=7, width=2, which='major')\n",
    "# pl.tick_params('both', length=5, width=2, which='minor')\n",
    "# pl.grid(True)\n",
    "# pl.legend(loc=2, prop={'size': 16}, numpoints=1, scatterpoints=1, ncol=2)\n",
    "# fig.tight_layout(pad=0.5)\n",
    "# pl.savefig(\"Error_plot.png\")\n",
    "\n",
    "# Contour plot\n",
    "coeff_arr = np.linspace(-0.5, 1.5, 10)\n",
    "alpha_arr = np.linspace(-1., 1., 10)\n",
    "err_scatter = np.array([])\n",
    "for i, coeff in enumerate(coeff_arr):\n",
    "    for j, alpha in enumerate(alpha_arr):\n",
    "        # err_matrix[i, j] = err([coeff, alpha])\n",
    "        x_0 = [coeff, alpha]\n",
    "        res = minimize(err, x_0, method = 'Nelder-Mead')\n",
    "        err_scatter = np.concatenate((err_scatter, res.x), axis = 0)\n",
    "err_scatter = np.transpose(err_scatter)\n",
    "print(np.shape(err_scatter))\n",
    "plt.scatter(err_scatter[0], err_scatter[1])"
   ]
  },
  {
   "cell_type": "code",
   "execution_count": 2,
   "metadata": {},
   "outputs": [
    {
     "name": "stderr",
     "output_type": "stream",
     "text": [
      "C:\\Users\\youta\\anaconda3\\lib\\site-packages\\ipykernel_launcher.py:15: UserWarning: Matplotlib is currently using module://ipykernel.pylab.backend_inline, which is a non-GUI backend, so cannot show the figure.\n",
      "  from ipykernel import kernelapp as app\n"
     ]
    },
    {
     "data": {
      "image/png": "[encoded data removed]",
      "text/plain": [
       "<Figure size 576x432 with 1 Axes>"
      ]
     },
     "metadata": {
      "needs_background": "light"
     },
     "output_type": "display_data"
    }
   ],
   "source": [
    "# Contour plot\n",
    "coeff_arr = np.linspace(-0.5, 1.5, 50)\n",
    "alpha_arr = np.linspace(-1., 1., 50)\n",
    "X, Y = np.meshgrid(coeff_arr, alpha_arr)\n",
    "err_matrix = np.zeros((len(coeff_arr), len(alpha_arr)))\n",
    "for i, coeff in enumerate(coeff_arr):\n",
    "    for j, alpha in enumerate(alpha_arr):\n",
    "        err_matrix[i, j] = err([coeff, alpha])\n",
    "\n",
    "# print(err_scatter)\n",
    "fig, ax = plt.subplots()\n",
    "CS = ax.contour(X, Y, err_matrix)\n",
    "fig.set_size_inches(8, 6)\n",
    "ax.clabel(CS, inline = True, fontsize=10)\n",
    "fig.show()"
   ]
  },
  {
   "cell_type": "code",
   "execution_count": null,
   "metadata": {},
   "outputs": [],
   "source": []
  }
 ],
 "metadata": {
  "kernelspec": {
   "display_name": "Python 3",
   "language": "python",
   "name": "python3"
  },
  "language_info": {
   "codemirror_mode": {
    "name": "ipython",
    "version": 3
   },
   "file_extension": ".py",
   "mimetype": "text/x-python",
   "name": "python",
   "nbconvert_exporter": "python",
   "pygments_lexer": "ipython3",
   "version": "3.7.6"
  }
 },
 "nbformat": 4,
 "nbformat_minor": 4
}
