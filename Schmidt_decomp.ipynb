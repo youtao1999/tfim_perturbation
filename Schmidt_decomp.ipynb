{
 "cells": [
  {
   "cell_type": "code",
   "execution_count": 3,
   "metadata": {},
   "outputs": [],
   "source": [
    "import tfim\n",
    "import tfim_perturbation\n",
    "import tfim_matrices\n",
    "import tfim_rdm\n",
    "import numpy as np\n",
    "from scipy import sparse\n",
    "from scipy.sparse import linalg as spla\n",
    "from scipy import linalg\n",
    "from scipy import optimize\n",
    "import progressbar\n",
    "import itertools\n",
    "import matplotlib.pyplot as pl\n",
    "import matplotlib.ticker as mtick\n",
    "import schmidt_decomp"
   ]
  },
  {
   "cell_type": "code",
   "execution_count": 4,
   "metadata": {},
   "outputs": [],
   "source": [
    "# Initial system specification\n",
    "L = [2,2]\n",
    "h_x_range = np.logspace(-2,-1, 100)\n",
    "PBC = True\n",
    "J = 1"
   ]
  },
  {
   "cell_type": "code",
   "execution_count": 5,
   "metadata": {},
   "outputs": [],
   "source": [
    "def Jij_2D_NN(seed, N, PBC, xwidth, yheight, lattice):\n",
    "\n",
    "    def bond_list(seed, N, PBC, xwidth, yheight):\n",
    "        np.random.seed(seed)\n",
    "        # Generates a random list of bonds with equal numbers of ferromagnetic and antiferromagnetic bonds\n",
    "        if PBC == True:\n",
    "            num_of_bonds = 2*N\n",
    "        else:\n",
    "            num_of_bonds = (xwidth - 1)*(yheight) + (xwidth)*(yheight - 1)\n",
    "        if num_of_bonds%2 == 0:\n",
    "            a1 = [-1 for i in range(num_of_bonds//2)]\n",
    "        else:\n",
    "            a1 = [-1 for i in range((num_of_bonds//2) + 1)]\n",
    "        a2 = [1 for i in range(num_of_bonds//2)]\n",
    "        a = list(np.random.permutation(a1+a2))\n",
    "        return a\n",
    "\n",
    "    def make_Jij(N, b_list, lattice):\n",
    "        #Goes through the list of bonds to make the jij matrix that tells you how all of the spins are bonded to each other\n",
    "\n",
    "        bond_index = 0\n",
    "        Jij = np.zeros((N,N))\n",
    "        for i in range(0,N):\n",
    "            NNs = lattice.NN(i)\n",
    "            for j in NNs:\n",
    "                if Jij[i][j] == 0:\n",
    "                    Jij[i][j] = b_list[bond_index]\n",
    "                    Jij[j][i] = b_list[bond_index]\n",
    "                    bond_index += 1\n",
    "        return Jij\n",
    "    \n",
    "    b_list = bond_list(seed, N, PBC, xwidth, yheight)\n",
    "    return make_Jij(N, b_list, lattice)"
   ]
  },
  {
   "cell_type": "code",
   "execution_count": 6,
   "metadata": {},
   "outputs": [
    {
     "name": "stdout",
     "output_type": "stream",
     "text": [
      "[]\n"
     ]
    }
   ],
   "source": [
    "# search for 4th order approximable Jij matrices\n",
    "seed_limit = 100\n",
    "max_order = 4\n",
    "\n",
    "# Build lattice and basis\n",
    "lattice = tfim.Lattice(L, PBC)\n",
    "N = lattice.N\n",
    "basis = tfim.IsingBasis(lattice)\n",
    "\n",
    "# Specifying parameters needed\n",
    "seed_range = range(seed_limit)\n",
    "\n",
    "# Begin search\n",
    "Jij_array = [];\n",
    "\n",
    "for i in seed_range:\n",
    "    Jij = Jij_2D_NN(i, N, PBC, L[0], L[1], lattice)\n",
    "    Jij_array.append(Jij)\n",
    "\n",
    "# Calculate energy array:\n",
    "indices_array = []\n",
    "\n",
    "for Jij in Jij_array:\n",
    "    Energies = -tfim.JZZ_SK_ME(basis,Jij)\n",
    "    GS_energy = np.min(Energies)\n",
    "    GS_indices = np.nonzero(Energies == GS_energy)[0]\n",
    "    indices_array.append(GS_indices)\n",
    "\n",
    "# Search for Hamming distance 2\n",
    "seed_list = []\n",
    "\n",
    "for index, indices in enumerate(indices_array):\n",
    "    if tfim_perturbation.judge(max_order, tfim_perturbation.Hamming_array(indices, basis), N):\n",
    "        seed_list.append(index)\n",
    "\n",
    "print(seed_list)"
   ]
  },
  {
   "cell_type": "code",
   "execution_count": 7,
   "metadata": {},
   "outputs": [],
   "source": [
    "# # Build lattice and basis\n",
    "# lattice = tfim.Lattice(L, PBC)\n",
    "# N = lattice.N\n",
    "# basis = tfim.IsingBasis(lattice)"
   ]
  },
  {
   "cell_type": "code",
   "execution_count": 8,
   "metadata": {},
   "outputs": [],
   "source": [
    "#construct random J matrix\n",
    "# Jij = tfim.Jij_instance(N,J,\"bimodal\",Jij_seed) \n",
    "Jij_3 = np.array([[-1, 1, 1]])\n",
    "Jij_4 = np.array([[0, 1, 0, -1],[1, 1, 1, 1]])\n",
    "# seed = 49\n",
    "seed = 34\n",
    "Jij = Jij_2D_NN(82, N, PBC, L[0], L[1], lattice)"
   ]
  },
  {
   "cell_type": "code",
   "execution_count": 9,
   "metadata": {},
   "outputs": [
    {
     "name": "stdout",
     "output_type": "stream",
     "text": [
      "0 [0 0 0 0] -0.0\n",
      "1 [0 0 0 1] 1.0\n",
      "2 [0 0 1 0] 1.0\n",
      "3 [0 0 1 1] 2.0\n",
      "4 [0 1 0 0] 1.0\n",
      "5 [0 1 0 1] -0.0\n",
      "6 [0 1 1 0] -2.0\n",
      "7 [0 1 1 1] -3.0\n",
      "8 [1 0 0 0] -3.0\n",
      "9 [1 0 0 1] -2.0\n",
      "10 [1 0 1 0] -0.0\n",
      "11 [1 0 1 1] 1.0\n",
      "12 [1 1 0 0] 2.0\n",
      "13 [1 1 0 1] 1.0\n",
      "14 [1 1 1 0] 1.0\n",
      "15 [1 1 1 1] -0.0\n"
     ]
    }
   ],
   "source": [
    "# List out all the spin_states, corresponding indices and energies\n",
    "Energies = -tfim.JZZ_SK_ME(basis,Jij)\n",
    "for index in range(2**N):\n",
    "    print(index, basis.state(index), Energies[index])"
   ]
  },
  {
   "cell_type": "code",
   "execution_count": 10,
   "metadata": {},
   "outputs": [],
   "source": [
    "# Build a list of excited state indices that are one Hamming distances away from ground states\n",
    "GS_energy, GS_indices = tfim_perturbation.GS(Energies)"
   ]
  },
  {
   "cell_type": "code",
   "execution_count": 11,
   "metadata": {},
   "outputs": [
    {
     "data": {
      "text/plain": [
       "(2,)"
      ]
     },
     "execution_count": 11,
     "metadata": {},
     "output_type": "execute_result"
    }
   ],
   "source": [
    "np.shape(GS_indices)"
   ]
  },
  {
   "cell_type": "code",
   "execution_count": 12,
   "metadata": {},
   "outputs": [],
   "source": [
    "# Build exact matrix\n",
    "V_exc = tfim_perturbation.V_exact(basis, lattice)\n",
    "\n",
    "H_0_exc = tfim_perturbation.H_0_exact(Energies)"
   ]
  },
  {
   "cell_type": "code",
   "execution_count": 13,
   "metadata": {},
   "outputs": [
    {
     "name": "stdout",
     "output_type": "stream",
     "text": [
      "[[0. 1. 1. 0. 1. 0. 0. 0. 1. 0. 0. 0. 0. 0. 0. 0.]\n",
      " [1. 0. 0. 1. 0. 1. 0. 0. 0. 1. 0. 0. 0. 0. 0. 0.]\n",
      " [1. 0. 0. 1. 0. 0. 1. 0. 0. 0. 1. 0. 0. 0. 0. 0.]\n",
      " [0. 1. 1. 0. 0. 0. 0. 1. 0. 0. 0. 1. 0. 0. 0. 0.]\n",
      " [1. 0. 0. 0. 0. 1. 1. 0. 0. 0. 0. 0. 1. 0. 0. 0.]\n",
      " [0. 1. 0. 0. 1. 0. 0. 1. 0. 0. 0. 0. 0. 1. 0. 0.]\n",
      " [0. 0. 1. 0. 1. 0. 0. 1. 0. 0. 0. 0. 0. 0. 1. 0.]\n",
      " [0. 0. 0. 1. 0. 1. 1. 0. 0. 0. 0. 0. 0. 0. 0. 1.]\n",
      " [1. 0. 0. 0. 0. 0. 0. 0. 0. 1. 1. 0. 1. 0. 0. 0.]\n",
      " [0. 1. 0. 0. 0. 0. 0. 0. 1. 0. 0. 1. 0. 1. 0. 0.]\n",
      " [0. 0. 1. 0. 0. 0. 0. 0. 1. 0. 0. 1. 0. 0. 1. 0.]\n",
      " [0. 0. 0. 1. 0. 0. 0. 0. 0. 1. 1. 0. 0. 0. 0. 1.]\n",
      " [0. 0. 0. 0. 1. 0. 0. 0. 1. 0. 0. 0. 0. 1. 1. 0.]\n",
      " [0. 0. 0. 0. 0. 1. 0. 0. 0. 1. 0. 0. 1. 0. 0. 1.]\n",
      " [0. 0. 0. 0. 0. 0. 1. 0. 0. 0. 1. 0. 1. 0. 0. 1.]\n",
      " [0. 0. 0. 0. 0. 0. 0. 1. 0. 0. 0. 1. 0. 1. 1. 0.]]\n"
     ]
    }
   ],
   "source": [
    "print(V_exc)"
   ]
  },
  {
   "cell_type": "code",
   "execution_count": 10,
   "metadata": {},
   "outputs": [],
   "source": [
    "# Calculate approximated eigenvalues and eigenstates for range(h_x)\n",
    "app_eigenvalues, app_eigenstates = tfim_perturbation.app_4_eigensystem_general_matrices(GS_indices, GS_energy, h_x_range, J, N, basis, Jij)"
   ]
  },
  {
   "cell_type": "code",
   "execution_count": 11,
   "metadata": {},
   "outputs": [],
   "source": [
    "# Calculate exact eigenvalues and eigenstates for range(h_x)\n",
    "exc_eigenvalues, exc_eigenstates = tfim_perturbation.exc_eigensystem(basis, h_x_range, lattice, Energies)"
   ]
  },
  {
   "cell_type": "code",
   "execution_count": 12,
   "metadata": {},
   "outputs": [],
   "source": [
    "# Extract exact ground states\n",
    "exc_GS_eigenstates = np.zeros((len(h_x_range), len(GS_indices), len(GS_indices)))\n",
    "\n",
    "for i in range(len(h_x_range)):\n",
    "    for m, j in enumerate(GS_indices):\n",
    "        for n, k in enumerate(GS_indices):\n",
    "            exc_GS_eigenstates[i, m, n] = exc_eigenstates[i, j, n]"
   ]
  },
  {
   "cell_type": "code",
   "execution_count": 13,
   "metadata": {},
   "outputs": [],
   "source": [
    "reordered_app_eigenstates = np.zeros([len(h_x_range), len(GS_indices), len(GS_indices)])\n",
    "epsilon = 1*10**(-6)\n",
    "\n",
    "for h_x_index in range(len(h_x_range)):\n",
    "    if h_x_index < 2:\n",
    "        reordered_app_eigenstates[h_x_index] = app_eigenstates[h_x_index]\n",
    "    else: \n",
    "        for k in range(len(GS_indices)//2):\n",
    "            fidelity_array = []\n",
    "            for v1 in [reordered_app_eigenstates[h_x_index-1, :, 2*k], reordered_app_eigenstates[h_x_index-1, :, 2*k+1]]:\n",
    "                for v2 in [app_eigenstates[h_x_index, :, 2*k], app_eigenstates[h_x_index, :, 2*k+1]]:\n",
    "                    fidelity_array = np.append(fidelity_array,tfim_perturbation.fidelity(v1,v2))\n",
    "            if abs(fidelity_array[0] - max(fidelity_array)) < epsilon:\n",
    "                reordered_app_eigenstates[h_x_index, :, 2*k] = app_eigenstates[h_x_index, :, 2*k]\n",
    "                reordered_app_eigenstates[h_x_index, :, 2*k + 1] = app_eigenstates[h_x_index, :, 2*k + 1]\n",
    "            else:\n",
    "                reordered_app_eigenstates[h_x_index, :, 2*k] = app_eigenstates[h_x_index, :, 2*k + 1]\n",
    "                reordered_app_eigenstates[h_x_index, :, 2*k + 1] = app_eigenstates[h_x_index, :, 2*k]"
   ]
  },
  {
   "cell_type": "code",
   "execution_count": 14,
   "metadata": {},
   "outputs": [],
   "source": [
    "reordered_exc_GS_eigenstates = np.zeros([len(h_x_range), len(GS_indices), len(GS_indices)])\n",
    "epsilon = 1*10**(-12)\n",
    "\n",
    "for h_x_index in range(len(h_x_range)):\n",
    "    if h_x_index < 2:\n",
    "        reordered_exc_GS_eigenstates[h_x_index] = exc_GS_eigenstates[h_x_index]\n",
    "    else: \n",
    "        for k in range(len(GS_indices)//2):\n",
    "            fidelity_array = []\n",
    "            for v1 in [reordered_exc_GS_eigenstates[h_x_index-1, :, 2*k], reordered_exc_GS_eigenstates[h_x_index-1, :, 2*k+1]]:\n",
    "                for v2 in [exc_GS_eigenstates[h_x_index, :, 2*k], exc_GS_eigenstates[h_x_index, :, 2*k+1]]:\n",
    "                    fidelity_array = np.append(fidelity_array,tfim_perturbation.fidelity(v1,v2))\n",
    "            if abs(fidelity_array[0] - max(fidelity_array)) < epsilon:\n",
    "                reordered_exc_GS_eigenstates[h_x_index, :, 2*k] = exc_GS_eigenstates[h_x_index, :, 2*k]\n",
    "                reordered_exc_GS_eigenstates[h_x_index, :, 2*k + 1] = exc_GS_eigenstates[h_x_index, :, 2*k + 1]\n",
    "            else:\n",
    "                reordered_exc_GS_eigenstates[h_x_index, :, 2*k] = exc_GS_eigenstates[h_x_index, :, 2*k + 1]\n",
    "                reordered_exc_GS_eigenstates[h_x_index, :, 2*k + 1] = exc_GS_eigenstates[h_x_index, :, 2*k]"
   ]
  },
  {
   "cell_type": "code",
   "execution_count": 15,
   "metadata": {},
   "outputs": [],
   "source": [
    "# Need to find the overall ground state wavefunction during perturbation\n",
    "# A = [0,1,4,5,8]\n",
    "# B = [2,3,6,7] # this is partition 2\n",
    "\n",
    "# A = [1,4,6,8]\n",
    "# B = [0,5,2,3,7] # this is partition 1\n",
    "\n",
    "# A = [0,2,4,6,8]\n",
    "# B = [1,3,5,7]\n",
    "\n",
    "A = [0,1]\n",
    "B = [2,3]\n",
    "# this number 5 is arbitrary, only serves to give the index of the overall ground state\n",
    "overall_perturb_GS = reordered_app_eigenstates[ :, :, np.argmin(app_eigenvalues.T[5])]\n",
    "overall_exc_GS = reordered_exc_GS_eigenstates[ :, :, np.argmin(exc_eigenvalues.T[5])]"
   ]
  },
  {
   "cell_type": "code",
   "execution_count": 16,
   "metadata": {},
   "outputs": [],
   "source": [
    "# # fidelity check\n",
    "# fidelity_array = np.zeros(len(h_x_range))\n",
    "\n",
    "# for i, h_x in enumerate(h_x_range):\n",
    "#     fidelity_array[i] = tfim_perturbation.fidelity(exc_GS_eigenstates[i, :, 3], app_eigenstates[i, :, 3])\n",
    "        \n",
    "# fig = pl.figure(figsize=(8, 6))\n",
    "# pl.rcParams['font.size'] = '18'\n",
    "# pl.plot(h_x_range ,fidelity_array, lw=1.3, ls='-', label= \"fidelity between perturbation and true quantum ground state\")\n",
    "# pl.ylabel('fidelity', fontsize=18)\n",
    "# pl.xlabel('perturbation parameter', fontsize=18)\n",
    "# # pl.axis([np.power(10, sigma_v)[lowerbound], np.power(10, sigma_v)[upperbound], chisq[lowerbound], chisq[upperbound]])\n",
    "# pl.xticks(fontsize=18)\n",
    "# pl.yticks(fontsize=18)\n",
    "# pl.tick_params('both', length=7, width=2, which='major')\n",
    "# pl.tick_params('both', length=5, width=2, which='minor')\n",
    "# pl.grid(False)\n",
    "# pl.xscale('log')\n",
    "# # pl.yscale('log')\n",
    "# pl.legend(bbox_to_anchor=(1.2,1), loc=\"upper left\", prop={'size': 16}, numpoints=1, scatterpoints=1, ncol=1)"
   ]
  },
  {
   "cell_type": "code",
   "execution_count": 17,
   "metadata": {},
   "outputs": [],
   "source": [
    "# quantum_GS = np.zeros((len(GS_indices),len(h_x_range)))\n",
    "\n",
    "# for i in range(len(GS_indices)):\n",
    "#     for j in range(len(h_x_range)):        \n",
    "#         energies = exc_eigenvalues[:, i]\n",
    "#         idk = np.argpartition(energies, len(GS_indices))\n",
    "#         lowest_energies=energies[idk[:len(GS_indices)]]\n",
    "#         quantum_GS[i, j] = lowest_energies[i]\n",
    "        \n",
    "# for i in range(len(GS_indices)):\n",
    "#     pl.plot(h_x_range, quantum_GS[i])"
   ]
  },
  {
   "cell_type": "code",
   "execution_count": 18,
   "metadata": {},
   "outputs": [],
   "source": [
    "def partition_basis(basis, GS_indices, A, B):\n",
    "    \n",
    "    # building initial basis as set since to avoid repeated elements\n",
    "    A_basis = set()\n",
    "    B_basis = set()\n",
    "    \n",
    "    for index, GS_index in np.ndenumerate(GS_indices):\n",
    "        state = basis.state(GS_index)\n",
    "        A_basis.add(tuple(state[A]))\n",
    "        B_basis.add(tuple(state[B]))\n",
    "    \n",
    "    def sum_digits(digits): \n",
    "        return sum(c << i for i, c in enumerate(digits)) \n",
    "    \n",
    "    # now we extract the elements from this set and start building the ordered\n",
    "    # basis\n",
    "    \n",
    "    # reordering basis A\n",
    "    index_matching_A = {}\n",
    "\n",
    "    for ele in A_basis:\n",
    "        ele = np.array(ele)\n",
    "        index_matching_A[sum_digits(ele)] = np.array(ele)\n",
    "\n",
    "    A_reordered_basis = np.zeros((len(index_matching_A),len(list(index_matching_A.values())[0])))\n",
    "    for index, key in enumerate(index_matching_A.keys()):\n",
    "        A_reordered_basis[index] = index_matching_A[key]\n",
    "    \n",
    "    # reordering basis B\n",
    "    index_matching_B = {}\n",
    "\n",
    "    for ele in B_basis:\n",
    "        ele = np.array(ele)\n",
    "        index_matching_B[sum_digits(ele)] = np.array(ele)\n",
    "\n",
    "    B_reordered_basis = np.zeros((len(index_matching_B),len(list(index_matching_B.values())[0])))\n",
    "    for index, key in enumerate(index_matching_B.keys()):\n",
    "        B_reordered_basis[index] = index_matching_B[key]\n",
    "        \n",
    "    return A_reordered_basis, B_reordered_basis\n",
    "\n",
    "A_basis, B_basis = partition_basis(basis, GS_indices, A, B)"
   ]
  },
  {
   "cell_type": "code",
   "execution_count": 19,
   "metadata": {},
   "outputs": [],
   "source": [
    "def beta_ij(basis, GS_indices, A, B, overall_GS, perturbation_param_index):\n",
    "    # this function builds beta_ij matrix as a function of the index of the perturbation parameter\n",
    "\n",
    "    # build A, B basis first\n",
    "    A_basis, B_basis = partition_basis(basis, GS_indices, A, B)\n",
    "    s = overall_GS[perturbation_param_index]\n",
    "\n",
    "    def find(basis, target):\n",
    "        # this function finds the index of the target state in the basis state, gives the index of 1 in BETA\n",
    "        for i, state in enumerate(basis):\n",
    "            if np.array_equiv(state, target):\n",
    "                return i\n",
    "\n",
    "    BETA = np.zeros((len(A_basis),len(B_basis)))\n",
    "\n",
    "    for (probability, GS_index) in zip(s, GS_indices):\n",
    "        GS_state = basis.state(GS_index)\n",
    "        i = find(A_basis, GS_state[A])\n",
    "        j = find(B_basis, GS_state[B])\n",
    "        BETA[i, j] += probability\n",
    "    return BETA"
   ]
  },
  {
   "cell_type": "code",
   "execution_count": 20,
   "metadata": {},
   "outputs": [],
   "source": [
    "def perturb_entropy(perturbation_param_index):\n",
    "    \n",
    "    BETA = beta_ij(basis, GS_indices, A, B, overall_GS, perturbation_param_index)\n",
    "\n",
    "    # perform uv decomposition\n",
    "\n",
    "    u, s, vh = np.linalg.svd(BETA, full_matrices=True)\n",
    "    \n",
    "    s = s[np.where(s != 0.)]\n",
    "    # add conditional statement to remove all the zero singular values\n",
    "\n",
    "    entropy = -np.dot(s**2, np.log(s**2))\n",
    "    \n",
    "    return entropy\n",
    "\n",
    "def exc_entropy(perturbation_param_index):\n",
    "    psi0 = exc_eigenstates[ :, :, np.argmin(exc_eigenvalues.T[5])]\n",
    "    S, U, V = tfim_rdm.svd(basis, A, B, psi0[perturbation_param_index])\n",
    "    entropy = tfim_rdm.entropy(S)\n",
    "    return entropy"
   ]
  },
  {
   "cell_type": "code",
   "execution_count": 21,
   "metadata": {},
   "outputs": [
    {
     "data": {
      "image/png": "[encoded data removed]",
      "text/plain": [
       "<Figure size 576x432 with 1 Axes>"
      ]
     },
     "metadata": {
      "needs_background": "light"
     },
     "output_type": "display_data"
    },
    {
     "data": {
      "image/png": "[encoded data removed]",
      "text/plain": [
       "<Figure size 576x432 with 1 Axes>"
      ]
     },
     "metadata": {
      "needs_background": "light"
     },
     "output_type": "display_data"
    }
   ],
   "source": [
    "perturb_entropy_arr = np.zeros(len(h_x_range))\n",
    "exc_entropy_arr = np.zeros(len(h_x_range))\n",
    "\n",
    "for i in range(len(h_x_range)):\n",
    "    perturb_entropy_arr[i] = schmidt_decomp.perturb_entropy(basis, GS_indices, A, B, overall_perturb_GS, i)\n",
    "    exc_entropy_arr[i] = schmidt_decomp.exc_entropy(basis, exc_eigenstates, exc_eigenvalues, A, B, i)\n",
    "\n",
    "# convergence plot\n",
    "fig = pl.figure(figsize=(8, 6))\n",
    "pl.rcParams['font.size'] = '18'\n",
    "pl.plot(h_x_range,exc_entropy_arr, lw=1.3, ls='-', color=\"blue\", label= \"exact diagonalization\")\n",
    "pl.plot(h_x_range,perturb_entropy_arr, lw=1.3, ls='-', color=\"green\", label = \"perturbation theory prediction\")\n",
    "pl.ylabel('entropy', fontsize=22)\n",
    "pl.xlabel(r'$h_x/J_0$', fontsize=22)\n",
    "# pl.axis([np.power(10, sigma_v)[lowerbound], np.power(10, sigma_v)[upperbound], chisq[lowerbound], chisq[upperbound]])\n",
    "pl.xticks(fontsize=18)\n",
    "pl.yticks(fontsize=18)\n",
    "pl.tick_params('both', length=7, width=2, which='major')\n",
    "pl.tick_params('both', length=5, width=2, which='minor')\n",
    "pl.gca().yaxis.set_major_formatter(mtick.FormatStrFormatter('%.6f'))\n",
    "pl.grid(False)\n",
    "pl.xscale('log')\n",
    "pl.legend(loc=0, prop={'size': 16}, numpoints=1, scatterpoints=1, ncol=1)\n",
    "fig.tight_layout(pad=0.5)\n",
    "\n",
    "# error plot\n",
    "\n",
    "# Boundary index for the plot\n",
    "fig = pl.figure(figsize=(8, 6))\n",
    "pl.rcParams['font.size'] = '18'\n",
    "pl.plot(h_x_range,abs(exc_entropy_arr-perturb_entropy_arr), lw=1.3, ls='-', color=\"blue\", label= \"entropy error\")\n",
    "pl.ylabel('entropy error', fontsize=22)\n",
    "pl.xlabel(r'$h_x/J_0$', fontsize=22)\n",
    "# pl.axis([np.power(10, sigma_v)[lowerbound], np.power(10, sigma_v)[upperbound], chisq[lowerbound], chisq[upperbound]])\n",
    "pl.xticks(fontsize=18)\n",
    "pl.yticks(fontsize=18)\n",
    "pl.tick_params('both', length=7, width=2, which='major')\n",
    "pl.tick_params('both', length=5, width=2, which='minor')\n",
    "pl.grid(False)\n",
    "pl.xscale('log')\n",
    "pl.yscale('log')\n",
    "pl.legend(loc = 0 , prop={'size': 16}, numpoints=1, scatterpoints=1, ncol=1)\n",
    "fig.tight_layout(pad=0.5)"
   ]
  },
  {
   "cell_type": "code",
   "execution_count": 25,
   "metadata": {},
   "outputs": [
    {
     "data": {
      "text/plain": [
       "0.8329910625820104"
      ]
     },
     "execution_count": 25,
     "metadata": {},
     "output_type": "execute_result"
    }
   ],
   "source": [
    "# For the paper, include 2 plots\n",
    "# plot my perturbation theory result 2nd order y axis entropy and x axis h where since the quantum ground state\n",
    "# degeneracy is fully split, then the entropy is just a constant since the eigenstate does not depend on h value, then compare it to the exact result\n",
    "# where the ground state will depend on h, this plot will show that as h approaches 0\n",
    "# 2nd plot is the error between the entropies of exact and approx. and we expect it to be a power law\n",
    "\n",
    "# next step for the project: bound the error for the quantum ground state by performing perturbation theory on excited states\n",
    "perturb_entropy_arr[5]"
   ]
  },
  {
   "cell_type": "code",
   "execution_count": 23,
   "metadata": {},
   "outputs": [],
   "source": [
    "# include a few instances of 3 by 3 and 4 by 4 instances and compare\n",
    "# the exact vs the perturbation theory result for the paper"
   ]
  },
  {
   "cell_type": "code",
   "execution_count": 24,
   "metadata": {},
   "outputs": [],
   "source": [
    "# use Ellie and Jack's code to generate visualizations for square lattice\n",
    "# look at a few different instances and a few different bipartitions for each"
   ]
  }
 ],
 "metadata": {
  "kernelspec": {
   "display_name": "Python 3",
   "language": "python",
   "name": "python3"
  },
  "language_info": {
   "codemirror_mode": {
    "name": "ipython",
    "version": 3
   },
   "file_extension": ".py",
   "mimetype": "text/x-python",
   "name": "python",
   "nbconvert_exporter": "python",
   "pygments_lexer": "ipython3",
   "version": "3.8.8"
  }
 },
 "nbformat": 4,
 "nbformat_minor": 4
}
