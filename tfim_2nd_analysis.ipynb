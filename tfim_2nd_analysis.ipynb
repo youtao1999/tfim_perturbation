{
 "cells": [
  {
   "cell_type": "code",
   "execution_count": 1,
   "metadata": {},
   "outputs": [],
   "source": [
    "import tfim\n",
    "import tfim_perturbation\n",
    "import numpy as np\n",
    "from scipy import sparse\n",
    "from scipy.sparse import linalg as spla\n",
    "from scipy.interpolate import interp1d\n",
    "from scipy import linalg\n",
    "import matplotlib.pyplot as plt\n",
    "from scipy import optimize\n",
    "import progressbar\n",
    "import itertools"
   ]
  },
  {
   "cell_type": "code",
   "execution_count": 2,
   "metadata": {},
   "outputs": [],
   "source": [
    "marker = itertools.cycle((',', '+', '.', '1','2','3','4','|')) "
   ]
  },
  {
   "cell_type": "code",
   "execution_count": 3,
   "metadata": {},
   "outputs": [],
   "source": [
    "# Initial system specification\n",
    "L = [5]\n",
    "Jij_seed = 19\n",
    "h_x_range = np.arange(0, 0.001, 0.00002)"
   ]
  },
  {
   "cell_type": "code",
   "execution_count": 4,
   "metadata": {},
   "outputs": [],
   "source": [
    "PBC = True\n",
    "J = 1"
   ]
  },
  {
   "cell_type": "code",
   "execution_count": 5,
   "metadata": {},
   "outputs": [
    {
     "ename": "TypeError",
     "evalue": "Jij_instance() missing 1 required positional argument: 'even'",
     "output_type": "error",
     "traceback": [
      "\u001b[1;31m---------------------------------------------------------------------------\u001b[0m",
      "\u001b[1;31mTypeError\u001b[0m                                 Traceback (most recent call last)",
      "\u001b[1;32m<ipython-input-5-699abf02e802>\u001b[0m in \u001b[0;36m<module>\u001b[1;34m\u001b[0m\n\u001b[0;32m      7\u001b[0m \u001b[1;33m\u001b[0m\u001b[0m\n\u001b[0;32m      8\u001b[0m \u001b[1;31m# construct random J matrix\u001b[0m\u001b[1;33m\u001b[0m\u001b[1;33m\u001b[0m\u001b[1;33m\u001b[0m\u001b[0m\n\u001b[1;32m----> 9\u001b[1;33m \u001b[0mJij\u001b[0m \u001b[1;33m=\u001b[0m \u001b[0mtfim\u001b[0m\u001b[1;33m.\u001b[0m\u001b[0mJij_instance\u001b[0m\u001b[1;33m(\u001b[0m\u001b[0mN\u001b[0m\u001b[1;33m,\u001b[0m\u001b[0mJ\u001b[0m\u001b[1;33m,\u001b[0m\u001b[1;34m\"bimodal\"\u001b[0m\u001b[1;33m,\u001b[0m\u001b[0mJij_seed\u001b[0m\u001b[1;33m)\u001b[0m\u001b[1;33m\u001b[0m\u001b[1;33m\u001b[0m\u001b[0m\n\u001b[0m",
      "\u001b[1;31mTypeError\u001b[0m: Jij_instance() missing 1 required positional argument: 'even'"
     ]
    }
   ],
   "source": [
    "# Build lattice and basis\n",
    "###################################\n",
    "lattice = tfim.Lattice(L, PBC)\n",
    "N = lattice.N\n",
    "basis = tfim.IsingBasis(lattice)\n",
    "###################################\n",
    "\n",
    "# construct random J matrix\n",
    "Jij = tfim.Jij_instance(N,J,\"bimodal\",Jij_seed) "
   ]
  },
  {
   "cell_type": "code",
   "execution_count": null,
   "metadata": {},
   "outputs": [],
   "source": [
    "# List out all the spin_states, corresponding indices and energies\n",
    "Energies = -tfim.JZZ_SK_ME(basis,Jij)\n",
    "for index in range(2**N):\n",
    "    print(index, basis.state(index), Energies[index])"
   ]
  },
  {
   "cell_type": "code",
   "execution_count": null,
   "metadata": {},
   "outputs": [],
   "source": [
    "# Build 2nd order approximated matrix\n",
    "\n",
    "GS_energy, GS_indices = tfim_perturbation.GS(Energies)\n",
    "\n",
    "H_app_0 = tfim_perturbation.H_app_0(GS_energy, GS_indices)\n",
    "\n",
    "H_app_1 = tfim_perturbation.H_app_1(basis, GS_indices, N)\n",
    "\n",
    "H_app_2 = tfim_perturbation.H_app_2(basis, Jij, GS_indices, N, GS_energy)\n",
    "\n",
    "print(H_app_2)"
   ]
  },
  {
   "cell_type": "code",
   "execution_count": null,
   "metadata": {},
   "outputs": [],
   "source": [
    "# Build exact matrix\n",
    "V_exc = tfim_perturbation.V_exact(basis, lattice)\n",
    "\n",
    "H_0_exc = tfim_perturbation.H_0_exact(Energies)"
   ]
  },
  {
   "cell_type": "code",
   "execution_count": null,
   "metadata": {},
   "outputs": [],
   "source": [
    "# Calculate approximated eigenvalues and eigenstates for range(h_x)\n",
    "app_eigenvalues, app_eigenstates = tfim_perturbation.app_2_eigensystem(GS_indices, GS_energy, h_x_range, J, N, basis, Jij)"
   ]
  },
  {
   "cell_type": "code",
   "execution_count": null,
   "metadata": {},
   "outputs": [],
   "source": [
    "# Calculate exact eigenvalues and eigenstates for range(h_x)\n",
    "exc_eigenvalues, exc_eigenstates = tfim_perturbation.exc_eigensystem(basis, h_x_range, lattice, Energies)"
   ]
  },
  {
   "cell_type": "code",
   "execution_count": null,
   "metadata": {},
   "outputs": [],
   "source": [
    "# Extract exact ground states\n",
    "exc_GS_eigenstates = np.zeros((len(h_x_range), len(GS_indices), len(GS_indices)))\n",
    "\n",
    "for i in range(len(h_x_range)):\n",
    "    for m, j in enumerate(GS_indices):\n",
    "        for n, k in enumerate(GS_indices):\n",
    "            exc_GS_eigenstates[i, m, n] = exc_eigenstates[i, j, n]"
   ]
  },
  {
   "cell_type": "code",
   "execution_count": null,
   "metadata": {},
   "outputs": [],
   "source": [
    "reordered_app_eigenstates = np.zeros([len(h_x_range), len(GS_indices), len(GS_indices)])\n",
    "epsilon = 1*10**(-6)\n",
    "\n",
    "for h_x_index in range(len(h_x_range)):\n",
    "    if h_x_index < 2:\n",
    "        reordered_app_eigenstates[h_x_index] = app_eigenstates[h_x_index]\n",
    "    else: \n",
    "        for k in range(int(len(GS_indices)/2)):\n",
    "            fidelity_array = []\n",
    "            for v1 in [reordered_app_eigenstates[h_x_index-1, :, 2*k], reordered_app_eigenstates[h_x_index-1, :, 2*k+1]]:\n",
    "                for v2 in [app_eigenstates[h_x_index, :, 2*k], app_eigenstates[h_x_index, :, 2*k+1]]:\n",
    "                    fidelity_array = np.append(fidelity_array,tfim_perturbation.fidelity(v1,v2))\n",
    "            if abs(fidelity_array[0] - max(fidelity_array)) < epsilon:\n",
    "                reordered_app_eigenstates[h_x_index, :, 2*k] = app_eigenstates[h_x_index, :, 2*k]\n",
    "                reordered_app_eigenstates[h_x_index, :, 2*k + 1] = app_eigenstates[h_x_index, :, 2*k + 1]\n",
    "            else:\n",
    "                reordered_app_eigenstates[h_x_index, :, 2*k] = app_eigenstates[h_x_index, :, 2*k + 1]\n",
    "                reordered_app_eigenstates[h_x_index, :, 2*k + 1] = app_eigenstates[h_x_index, :, 2*k]"
   ]
  },
  {
   "cell_type": "code",
   "execution_count": null,
   "metadata": {},
   "outputs": [],
   "source": [
    "reordered_exc_GS_eigenstates = np.zeros([len(h_x_range), len(GS_indices), len(GS_indices)])\n",
    "epsilon = 1*10**(-12)\n",
    "\n",
    "for h_x_index in range(len(h_x_range)):\n",
    "    if h_x_index < 2:\n",
    "        reordered_exc_GS_eigenstates[h_x_index] = exc_GS_eigenstates[h_x_index]\n",
    "    else: \n",
    "        for k in range(len(GS_indices)//2):\n",
    "            fidelity_array = []\n",
    "            for v1 in [reordered_exc_GS_eigenstates[h_x_index-1, :, 2*k], reordered_exc_GS_eigenstates[h_x_index-1, :, 2*k+1]]:\n",
    "                for v2 in [exc_GS_eigenstates[h_x_index, :, 2*k], exc_GS_eigenstates[h_x_index, :, 2*k+1]]:\n",
    "                    fidelity_array = np.append(fidelity_array,tfim_perturbation.fidelity(v1,v2))\n",
    "            if abs(fidelity_array[0] - max(fidelity_array)) < epsilon:\n",
    "                reordered_exc_GS_eigenstates[h_x_index, :, 2*k] = exc_GS_eigenstates[h_x_index, :, 2*k]\n",
    "                reordered_exc_GS_eigenstates[h_x_index, :, 2*k + 1] = exc_GS_eigenstates[h_x_index, :, 2*k + 1]\n",
    "            else:\n",
    "                reordered_exc_GS_eigenstates[h_x_index, :, 2*k] = exc_GS_eigenstates[h_x_index, :, 2*k + 1]\n",
    "                reordered_exc_GS_eigenstates[h_x_index, :, 2*k + 1] = exc_GS_eigenstates[h_x_index, :, 2*k]"
   ]
  },
  {
   "cell_type": "code",
   "execution_count": null,
   "metadata": {
    "scrolled": true
   },
   "outputs": [],
   "source": [
    "# Plot app GS energy vs h_x\n",
    "for i in range(len(GS_indices)):\n",
    "    app_GS_energy_plot = plt.plot(h_x_range, app_eigenvalues[i],label = 'Approximated ground state ' + str(i))\n",
    "    plt.legend(loc = 'best', bbox_to_anchor=(1, 1), ncol = 1)\n",
    "plt.ylabel(\"Approximated GS energy eigenvalues\")\n",
    "plt.xlabel(\"h_x\")\n",
    "plt.show(app_GS_energy_plot)"
   ]
  },
  {
   "cell_type": "code",
   "execution_count": null,
   "metadata": {},
   "outputs": [],
   "source": [
    "# Plot exc GS energy vs h_x\n",
    "for i in range(len(GS_indices)):\n",
    "    exc_GS_energy_plot = plt.plot(h_x_range, exc_eigenvalues[i], label = 'Exact ground state ' + str(i))\n",
    "    plt.legend(loc = 'best', bbox_to_anchor=(1, 1), ncol = 1)\n",
    "plt.ylabel(\"Exact GS energy eigenvalues\")\n",
    "plt.xlabel(\"h_x\")\n",
    "plt.show(exc_GS_energy_plot)"
   ]
  },
  {
   "cell_type": "code",
   "execution_count": null,
   "metadata": {},
   "outputs": [],
   "source": [
    "# Compare the exact and approximated GS energies\n",
    "\n",
    "for i in range(len(GS_indices)):\n",
    "    plt.plot(h_x_range, app_eigenvalues[i], '--', linewidth = 4, label = 'Approximated ground state ' + str(i))\n",
    "    plt.plot(h_x_range, exc_eigenvalues[i],label = 'Exact ground state ' + str(i))\n",
    "    plt.legend(loc = 'best', bbox_to_anchor=(1, 1), ncol = 1)\n",
    "plt.ylabel(\"Ground state energy eigenvalues\")\n",
    "plt.xlabel(\"h_x\")"
   ]
  },
  {
   "cell_type": "code",
   "execution_count": null,
   "metadata": {},
   "outputs": [],
   "source": [
    "def polyno_3(x, b ):\n",
    "    # third order polynomial\n",
    "    return b*x**3;\n",
    "\n",
    "# Calculate and plot energy errors\n",
    "\n",
    "corrected_exc_eigenvalues = np.zeros((len(GS_indices), len(h_x_range)))\n",
    "\n",
    "for i in range(len(GS_indices)):\n",
    "    for j in range(len(h_x_range)):\n",
    "        corrected_exc_eigenvalues[i, j] = exc_eigenvalues[i, j]\n",
    "\n",
    "error_array = np.absolute(corrected_exc_eigenvalues - app_eigenvalues)\n",
    "\n",
    "# Curve fit\n",
    "\n",
    "for i in range(len(GS_indices)):\n",
    "    popt, pcov = optimize.curve_fit(tfim_perturbation.poly_3, h_x_range, error_array[i])\n",
    "    GS_energy_error_plot = plt.plot(h_x_range, error_array[i], marker = (i+2)%len(GS_indices), label = 'Ground state ' + str(i))\n",
    "    plt.plot(h_x_range, tfim_perturbation.poly_3(h_x_range, *popt), ':', linewidth = i+2, label = 'Cubic curve fit' + str(i))\n",
    "    print(*popt)\n",
    "    plt.legend(loc = 'best', bbox_to_anchor=(1, 1), ncol = 1)\n",
    "plt.xlabel('h_x')\n",
    "plt.ylabel('Ground state energy error')"
   ]
  },
  {
   "cell_type": "code",
   "execution_count": null,
   "metadata": {},
   "outputs": [],
   "source": [
    "# Calculate and plot energy errors\n",
    "\n",
    "corrected_exc_eigenvalues = np.zeros((len(GS_indices), len(h_x_range)))\n",
    "\n",
    "for i in range(len(GS_indices)):\n",
    "    for j in range(len(h_x_range)):\n",
    "        corrected_exc_eigenvalues[i, j] = exc_eigenvalues[i, j]\n",
    "\n",
    "error_array = np.absolute(corrected_exc_eigenvalues - app_eigenvalues)\n",
    "\n",
    "# Curve fit\n",
    "\n",
    "for i in range(len(GS_indices)):\n",
    "    GS_energy_error_plot = plt.plot(h_x_range, error_array[i], marker = (i+2)%len(GS_indices), label = 'Ground state ' + str(i))\n",
    "    f = interp1d(h_x_range, error_array[i], kind='cubic')\n",
    "    plt.plot(h_x_range, f(h_x_range),':', linewidth = i+2, label = 'Cubic curve fit' + str(i))\n",
    "    plt.legend(loc = 'best', bbox_to_anchor=(1, 1), ncol = 1)\n",
    "plt.xlabel('h_x')\n",
    "plt.ylabel('Ground state energy error')"
   ]
  },
  {
   "cell_type": "code",
   "execution_count": null,
   "metadata": {},
   "outputs": [],
   "source": [
    "# Calculate probabilities for approximated eigenstates\n",
    "\n",
    "prob_app = tfim_perturbation.prob_app(GS_indices, h_x_range, reordered_app_eigenstates)\n",
    "\n",
    "# Plot probabilities for finding six bases states for system in ground eigenstate (approximated)\n",
    "\n",
    "for i in range(len(GS_indices)):\n",
    "    app_GS_probability_plot = plt.plot(h_x_range, prob_app[i], marker = next(marker), linewidth = 1, label = 'state ' + str(i))\n",
    "    plt.legend(loc = 'best', bbox_to_anchor=(1, 1), ncol = 1)\n",
    "plt.ylabel(\"GS probability for finding given basis state in approximated Hamiltonian\")\n",
    "plt.show(app_GS_probability_plot)"
   ]
  },
  {
   "cell_type": "code",
   "execution_count": null,
   "metadata": {},
   "outputs": [],
   "source": [
    "# Calculate probabilities for exact eigenstates\n",
    "\n",
    "prob_exc_0 = tfim_perturbation.prob_exc(GS_indices, h_x_range, reordered_exc_GS_eigenstates, 0)\n",
    "prob_exc_1 = tfim_perturbation.prob_exc(GS_indices, h_x_range, reordered_exc_GS_eigenstates, 1)\n",
    "\n",
    "# Plot probabilities for finding six bases states for system in ground eigenstate (exact)\n",
    "prob_exc = prob_exc_0 + prob_exc_1\n",
    "\n",
    "for i in range(len(GS_indices)):\n",
    "    exc_GS_probability_plot = plt.plot(h_x_range, prob_exc[i],  marker = next(marker), linewidth = 1, label = 'state ' + str(i))\n",
    "    plt.legend(loc = 'upper right', bbox_to_anchor=(1, 1), ncol = 1)\n",
    "plt.ylabel(\"GS probability for finding given basis state in exact Hamiltonian\")\n",
    "plt.show(exc_GS_probability_plot)"
   ]
  },
  {
   "cell_type": "code",
   "execution_count": null,
   "metadata": {},
   "outputs": [],
   "source": [
    "# Compare probabilities\n",
    "\n",
    "for i in range(len(GS_indices)):\n",
    "    app_GS_probability_plot = plt.plot(h_x_range, prob_app[i],  marker = next(marker), linewidth = 1, label = 'app_GS_prob' + str(i))\n",
    "    exc_GS_probability_plot = plt.plot(h_x_range, prob_exc[i], label = 'exc_GS_prob' + str(i))\n",
    "    plt.legend(loc = 'best', bbox_to_anchor=(1, 1), ncol = 1)"
   ]
  },
  {
   "cell_type": "code",
   "execution_count": null,
   "metadata": {},
   "outputs": [],
   "source": [
    "# Calculate and plot probability errors\n",
    "\n",
    "prob_error_array = np.absolute(prob_app - prob_exc)\n",
    "\n",
    "# Curve fit\n",
    "for i in range(len(GS_indices)):\n",
    "    popt, pcov = optimize.curve_fit(tfim_perturbation.poly_2, h_x_range, prob_error_array[i])\n",
    "    GS_probability_error_plot = plt.plot(h_x_range, prob_error_array[i], label = 'state ' + str(i))\n",
    "    plt.plot(h_x_range, tfim_perturbation.poly_2(h_x_range, *popt), marker = next(marker), linewidth = 1, label = 'quadratic curve fit')\n",
    "    plt.legend(loc = 'best', bbox_to_anchor=(1, 1), ncol = 1)\n",
    "plt.ylabel('Ground state probability error')\n",
    "plt.xlabel('h_x')"
   ]
  },
  {
   "cell_type": "code",
   "execution_count": null,
   "metadata": {},
   "outputs": [],
   "source": [
    "# Probability of finding the exact system to be in excited states\n",
    "prob_exc_total = tfim_perturbation.prob_exc_total(GS_indices, h_x_range, exc_eigenstates)\n",
    "\n",
    "prob_excited_sum = tfim_perturbation.prob_excited_sum(GS_indices, h_x_range, prob_exc_total)\n",
    "\n",
    "for i in range(len(GS_indices)):\n",
    "    popt, pcov = optimize.curve_fit(tfim_perturbation.poly_2, h_x_range, prob_excited_sum[i])\n",
    "    plt.plot(h_x_range, prob_excited_sum[i], label = 'state ' + str(i))\n",
    "    plt.plot(h_x_range, tfim_perturbation.poly_2(h_x_range, *popt), marker = next(marker), linewidth = 1, label = 'quadratic curve fit '+ str(i))\n",
    "    plt.legend(loc = 'best', bbox_to_anchor=(1, 1), ncol = 1)\n",
    "plt.ylabel('Probability of finding the exact system to be in excited states')\n",
    "plt.xlabel('h_x')"
   ]
  },
  {
   "cell_type": "code",
   "execution_count": null,
   "metadata": {
    "scrolled": true
   },
   "outputs": [],
   "source": [
    "# Plot fidelity\n",
    "\n",
    "# Extract ground states from exc_states matrix and renormalize\n",
    "normalized_GS_exc_eigenstates = tfim_perturbation.norm_GS_exc_eigenstates(GS_indices, h_x_range, exc_eigenstates)\n",
    "\n",
    "# Identify energy levels, sort, and calculate fidelity_array to be plotted\n",
    "GS_exc_eigenvalues = exc_eigenvalues[0:len(GS_indices)]\n",
    "fidelity_array = tfim_perturbation.fidelity_array(GS_indices, h_x_range, GS_exc_eigenvalues, app_eigenvalues, exc_eigenstates, app_eigenstates)\n",
    "\n",
    "# Plot fidelity array\n",
    "for i in range(len(GS_indices)):\n",
    "    plt.plot(h_x_range, fidelity_array[i], marker = next(marker), linewidth = 1, label = 'state ' + str(i))\n",
    "    plt.legend(loc = 'best', bbox_to_anchor=(1, 1), ncol = 1)\n",
    "plt.ylabel('Fidelity between each approximated state and each exact state')\n",
    "plt.xlabel('h_x')"
   ]
  },
  {
   "cell_type": "code",
   "execution_count": null,
   "metadata": {},
   "outputs": [],
   "source": [
    "# Plot infidelity\n",
    "\n",
    "infidelity_array = tfim_perturbation.infidelity_array(fidelity_array)\n",
    "\n",
    "for i in range(len(GS_indices)):\n",
    "    popt, pcov = optimize.curve_fit(tfim_perturbation.poly_2, h_x_range, infidelity_array[i])\n",
    "    plt.plot(h_x_range, infidelity_array[i], label = 'state ' + str(i))\n",
    "    plt.plot(h_x_range, tfim_perturbation.poly_2(h_x_range, *popt), marker = next(marker), linewidth = 1, label = 'quadratic curve fit')\n",
    "    plt.legend(loc = 'best', bbox_to_anchor=(1, 1), ncol = 1)\n",
    "plt.ylabel('Infidelity between each approximated state and each exact state')\n",
    "plt.xlabel('h_x')"
   ]
  },
  {
   "cell_type": "code",
   "execution_count": null,
   "metadata": {},
   "outputs": [],
   "source": []
  }
 ],
 "metadata": {
  "kernelspec": {
   "display_name": "Python 3",
   "language": "python",
   "name": "python3"
  },
  "language_info": {
   "codemirror_mode": {
    "name": "ipython",
    "version": 3
   },
   "file_extension": ".py",
   "mimetype": "text/x-python",
   "name": "python",
   "nbconvert_exporter": "python",
   "pygments_lexer": "ipython3",
   "version": "3.8.8"
  }
 },
 "nbformat": 4,
 "nbformat_minor": 4
}
