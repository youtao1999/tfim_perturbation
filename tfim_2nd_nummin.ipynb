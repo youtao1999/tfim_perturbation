{
 "cells": [
  {
   "cell_type": "code",
   "execution_count": 1,
   "metadata": {},
   "outputs": [],
   "source": [
    "import tfim\n",
    "import tfim_perturbation\n",
    "import numpy as np\n",
    "from scipy import sparse\n",
    "from scipy.sparse import linalg as spla\n",
    "from scipy import linalg\n",
    "import matplotlib.pyplot as plt\n",
    "from scipy import optimize\n",
    "import progressbar\n",
    "import itertools"
   ]
  },
  {
   "cell_type": "code",
   "execution_count": 2,
   "metadata": {},
   "outputs": [],
   "source": [
    "marker = itertools.cycle((',', '+', '.', '1','2','3','4','|')) "
   ]
  },
  {
   "cell_type": "code",
   "execution_count": 3,
   "metadata": {},
   "outputs": [],
   "source": [
    "# Initial system specification\n",
    "L = [4]\n",
    "Jij_seed = 19\n",
    "h_x_range = np.arange(0, 0.01, 0.0002)"
   ]
  },
  {
   "cell_type": "code",
   "execution_count": 4,
   "metadata": {},
   "outputs": [],
   "source": [
    "PBC = True\n",
    "J = 1"
   ]
  },
  {
   "cell_type": "code",
   "execution_count": 5,
   "metadata": {},
   "outputs": [],
   "source": [
    "# Build lattice and basis\n",
    "###################################\n",
    "lattice = tfim.Lattice(L, PBC)\n",
    "N = lattice.N\n",
    "basis = tfim.IsingBasis(lattice)\n",
    "###################################\n",
    "\n",
    "#construct random J matrix\n",
    "Jij = tfim.Jij_instance(N,J,\"bimodal\",Jij_seed) "
   ]
  },
  {
   "cell_type": "code",
   "execution_count": 6,
   "metadata": {},
   "outputs": [
    {
     "name": "stderr",
     "output_type": "stream",
     "text": [
      "100% |########################################################################|\r"
     ]
    },
    {
     "name": "stdout",
     "output_type": "stream",
     "text": [
      "0 [0 0 0 0] -0.0\n",
      "1 [0 0 0 1] -2.0\n",
      "2 [0 0 1 0] -2.0\n",
      "3 [0 0 1 1] -0.0\n",
      "4 [0 1 0 0] 6.0\n",
      "5 [0 1 0 1] -0.0\n",
      "6 [0 1 1 0] -0.0\n",
      "7 [0 1 1 1] -2.0\n",
      "8 [1 0 0 0] -2.0\n",
      "9 [1 0 0 1] -0.0\n",
      "10 [1 0 1 0] -0.0\n",
      "11 [1 0 1 1] 6.0\n",
      "12 [1 1 0 0] -0.0\n",
      "13 [1 1 0 1] -2.0\n",
      "14 [1 1 1 0] -2.0\n",
      "15 [1 1 1 1] -0.0\n"
     ]
    },
    {
     "name": "stderr",
     "output_type": "stream",
     "text": [
      "\n"
     ]
    }
   ],
   "source": [
    "# List out all the spin_states, corresponding indices and energies\n",
    "Energies = -tfim.JZZ_SK_ME(basis,Jij)\n",
    "for index in range(2**N):\n",
    "    print(index, basis.state(index), Energies[index])"
   ]
  },
  {
   "cell_type": "code",
   "execution_count": 14,
   "metadata": {},
   "outputs": [
    {
     "name": "stdout",
     "output_type": "stream",
     "text": [
      "-2.0\n"
     ]
    }
   ],
   "source": [
    "# Build 2nd order approximated matrix\n",
    "\n",
    "GS_energy, GS_indices = tfim_perturbation.GS(Energies)\n",
    "\n",
    "print(GS_energy)\n",
    "\n",
    "H_app_0 = tfim_perturbation.H_app_0(GS_energy, GS_indices)\n",
    "\n",
    "H_app_1 = tfim_perturbation.H_app_1(basis, GS_indices, N)\n",
    "\n",
    "H_app_2 = tfim_perturbation.H_app_2(basis, Jij, GS_indices, N, GS_energy)"
   ]
  },
  {
   "cell_type": "code",
   "execution_count": 12,
   "metadata": {},
   "outputs": [],
   "source": [
    "# Build exact matrix\n",
    "V_exc = tfim_perturbation.V_exact(basis, lattice)\n",
    "\n",
    "H_0_exc = tfim_perturbation.H_0_exact(Energies)"
   ]
  },
  {
   "cell_type": "code",
   "execution_count": 13,
   "metadata": {},
   "outputs": [],
   "source": [
    "# Calculate approximated eigenvalues and eigenstates for range(h_x)\n",
    "app_eigenvalues, app_eigenstates = tfim_perturbation.app_2_eigensystem(GS_indices, GS_energy, h_x_range, J, N, basis, Jij)"
   ]
  },
  {
   "cell_type": "code",
   "execution_count": null,
   "metadata": {},
   "outputs": [],
   "source": []
  }
 ],
 "metadata": {
  "kernelspec": {
   "display_name": "Python 3",
   "language": "python",
   "name": "python3"
  },
  "language_info": {
   "codemirror_mode": {
    "name": "ipython",
    "version": 3
   },
   "file_extension": ".py",
   "mimetype": "text/x-python",
   "name": "python",
   "nbconvert_exporter": "python",
   "pygments_lexer": "ipython3",
   "version": "3.7.6"
  }
 },
 "nbformat": 4,
 "nbformat_minor": 4
}
