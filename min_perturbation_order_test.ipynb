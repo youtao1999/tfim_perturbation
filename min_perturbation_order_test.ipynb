{
 "cells": [
  {
   "cell_type": "code",
   "execution_count": 15,
   "id": "d5432fc7-4a33-4056-aa03-13768f8d2142",
   "metadata": {},
   "outputs": [],
   "source": [
    "import tfim\n",
    "import tfim_perturbation\n",
    "import tfim_matrices\n",
    "import numpy as np\n",
    "from scipy import sparse\n",
    "from scipy.sparse import linalg as spla\n",
    "from scipy import linalg\n",
    "import matplotlib.pyplot as plt\n",
    "from scipy import optimize\n",
    "import progressbar\n",
    "import itertools\n",
    "import networkx as nx\n",
    "import matplotlib.pyplot as plt\n"
   ]
  },
  {
   "cell_type": "code",
   "execution_count": 16,
   "id": "3e7f7ef7-5741-49bf-bbc5-4f20a74df597",
   "metadata": {},
   "outputs": [],
   "source": [
    "# Initial system specification\n",
    "L = [3]\n",
    "Jij_seed = 55\n",
    "h_x_range = np.arange(0, 0.005, 0.0001)\n",
    "h_x_range = np.logspace(-4, -2, 40)"
   ]
  },
  {
   "cell_type": "code",
   "execution_count": 17,
   "id": "0fc3f5fe-9b72-43d5-b039-aebfdfc0e4e4",
   "metadata": {},
   "outputs": [],
   "source": [
    "PBC = True\n",
    "J = 1"
   ]
  },
  {
   "cell_type": "code",
   "execution_count": 18,
   "id": "832f8284-b57a-4d47-a42d-dc44a18777d6",
   "metadata": {},
   "outputs": [],
   "source": [
    "# Build lattice and basis\n",
    "###################################\n",
    "lattice = tfim.Lattice(L, PBC)\n",
    "N = lattice.N\n",
    "basis = tfim.IsingBasis(lattice)\n",
    "###################################"
   ]
  },
  {
   "cell_type": "code",
   "execution_count": 19,
   "id": "fb7e859a-8382-4c44-948c-dd85a7531402",
   "metadata": {},
   "outputs": [],
   "source": [
    "#construct random J matrix\n",
    "Jij = tfim.Jij_instance(N,J,\"bimodal\",Jij_seed) \n",
    "Jij = np.array([[-1, 1, 1]])"
   ]
  },
  {
   "cell_type": "code",
   "execution_count": 20,
   "id": "77c7ae7d-6e03-47bd-b5b0-c4a1e69c4089",
   "metadata": {},
   "outputs": [
    {
     "name": "stderr",
     "output_type": "stream",
     "text": [
      "100% (8 of 8) |##########################| Elapsed Time: 0:00:00 Time:  0:00:00\n"
     ]
    }
   ],
   "source": [
    "# List out all the spin_states, corresponding indices and energies\n",
    "Energies = -tfim.JZZ_SK_ME(basis,Jij)"
   ]
  },
  {
   "cell_type": "code",
   "execution_count": 28,
   "id": "259619e9-71bd-43b0-b3f1-3ab92b1d1619",
   "metadata": {},
   "outputs": [
    {
     "name": "stdout",
     "output_type": "stream",
     "text": [
      "0 [0 0 0] -1.0\n",
      "1 [0 0 1] -1.0\n",
      "2 [0 1 0] 3.0\n",
      "3 [0 1 1] -1.0\n",
      "4 [1 0 0] -1.0\n",
      "5 [1 0 1] 3.0\n",
      "6 [1 1 0] -1.0\n",
      "7 [1 1 1] -1.0\n"
     ]
    }
   ],
   "source": [
    "# Build a list of excited state indices that are one Hamming distances away from ground states\n",
    "GS_energy, GS_indices = tfim_perturbation.GS(Energies)\n",
    "for index in range(2**N):\n",
    "    print(index, basis.state(index), Energies[index])"
   ]
  },
  {
   "cell_type": "code",
   "execution_count": 22,
   "id": "55245321-6b77-49a1-b6a2-4601e1855eb6",
   "metadata": {},
   "outputs": [],
   "source": [
    "def Hamming_array(GS_indices, basis):\n",
    "    # Calculate Hamming distance array\n",
    "    Hamming = np.zeros((len(GS_indices), len(GS_indices)))\n",
    "    for i, n in enumerate(GS_indices):\n",
    "        basis_n = basis.state(n)\n",
    "        for j, m in enumerate(GS_indices):\n",
    "            basis_m = basis.state(m)\n",
    "            Hamming[i, j] = tfim_perturbation.Hamming_distance(basis_n, basis_m)\n",
    "    return Hamming"
   ]
  },
  {
   "cell_type": "code",
   "execution_count": 23,
   "id": "fa2e8e2d-6a84-4c94-be1f-887848e45c6f",
   "metadata": {},
   "outputs": [
    {
     "name": "stdout",
     "output_type": "stream",
     "text": [
      "[[0. 1. 2. 1. 2. 3.]\n",
      " [1. 0. 1. 2. 3. 2.]\n",
      " [2. 1. 0. 3. 2. 1.]\n",
      " [1. 2. 3. 0. 1. 2.]\n",
      " [2. 3. 2. 1. 0. 1.]\n",
      " [3. 2. 1. 2. 1. 0.]]\n"
     ]
    }
   ],
   "source": [
    "Hamming_matrix = Hamming_array(GS_indices, basis)\n",
    "print(Hamming_matrix)"
   ]
  },
  {
   "cell_type": "code",
   "execution_count": 24,
   "id": "e27be5f1-d966-4ade-9768-7c725d097852",
   "metadata": {},
   "outputs": [],
   "source": [
    "def lst2tuples(coupling_coord):\n",
    "    #the coupling coord must be len(GS_indices)by 2\n",
    "    output = []\n",
    "    for i, coord in enumerate(coupling_coord):\n",
    "        coord = tuple(coord)\n",
    "        output.append(coord)\n",
    "    return output"
   ]
  },
  {
   "cell_type": "code",
   "execution_count": 25,
   "id": "6b7276d1-2ce4-4f1a-b4b9-bc2a5e5dfabb",
   "metadata": {},
   "outputs": [],
   "source": [
    "# Separate out transition matrix\n",
    "\n",
    "# Construct graph\n",
    "G = nx.Graph()\n",
    "G.add_nodes_from(GS_indices)\n",
    "for order in range(2**N):\n",
    "    coupling_coord = np.argwhere(Hamming_matrix == order)\n",
    "    # add edges indicating coupling between ground states\n",
    "    G.add_edges_from(lst2tuples(GS_indices[coupling_coord]))\n",
    "    number_connected_components = nx.number_connected_components(G)"
   ]
  },
  {
   "cell_type": "code",
   "execution_count": 26,
   "id": "f01975ac-7d05-4f14-ba6f-544dc0e006b4",
   "metadata": {},
   "outputs": [
    {
     "name": "stdout",
     "output_type": "stream",
     "text": [
      "6\n",
      "0\n",
      "1\n",
      "1\n"
     ]
    }
   ],
   "source": [
    "# Separate out transition matrix\n",
    "\n",
    "# Construct graph\n",
    "G = nx.Graph()\n",
    "G.add_nodes_from(GS_indices)\n",
    "\n",
    "# initiate counter\n",
    "order = 0\n",
    "number_connected_components = 3\n",
    "\n",
    "while number_connected_components > 2:\n",
    "    coupling_coord = np.argwhere(Hamming_matrix == order)\n",
    "    # add edges indicating coupling between ground states\n",
    "    G.add_edges_from(lst2tuples(GS_indices[coupling_coord]))\n",
    "    number_connected_components = nx.number_connected_components(G)\n",
    "    print(number_connected_components)\n",
    "    print(order)\n",
    "    order += 1\n",
    "# print(order)"
   ]
  },
  {
   "cell_type": "code",
   "execution_count": null,
   "id": "87c1ba1e-cd90-48e4-8675-ecd570afd43f",
   "metadata": {},
   "outputs": [],
   "source": []
  }
 ],
 "metadata": {
  "kernelspec": {
   "display_name": "Python 3",
   "language": "python",
   "name": "python3"
  },
  "language_info": {
   "codemirror_mode": {
    "name": "ipython",
    "version": 3
   },
   "file_extension": ".py",
   "mimetype": "text/x-python",
   "name": "python",
   "nbconvert_exporter": "python",
   "pygments_lexer": "ipython3",
   "version": "3.8.8"
  }
 },
 "nbformat": 4,
 "nbformat_minor": 5
}
