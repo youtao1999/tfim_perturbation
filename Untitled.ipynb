{
 "cells": [
  {
   "cell_type": "code",
   "execution_count": 1,
   "id": "3c1ff924-bec7-4573-85f4-185cda99ecf3",
   "metadata": {},
   "outputs": [],
   "source": [
    "import tfim\n",
    "import tfim_perturbation\n",
    "import numpy as np\n",
    "from scipy.optimize import curve_fit\n",
    "import tfim_survey\n",
    "import matplotlib.pyplot as plt"
   ]
  },
  {
   "cell_type": "code",
   "execution_count": 2,
   "id": "b10a0fff-27ae-4423-b5bd-26f6b2ac0350",
   "metadata": {},
   "outputs": [],
   "source": [
    "seed_range = range(100)"
   ]
  },
  {
   "cell_type": "code",
   "execution_count": 3,
   "id": "eca43c94-04d2-4382-a71b-f26c29941f68",
   "metadata": {},
   "outputs": [
    {
     "name": "stderr",
     "output_type": "stream",
     "text": [
      "100% (32 of 32) |########################| Elapsed Time: 0:00:00 Time:  0:00:00\n",
      "100% (32 of 32) |########################| Elapsed Time: 0:00:00 Time:  0:00:00\n",
      "100% (32 of 32) |########################| Elapsed Time: 0:00:00 Time:  0:00:00\n",
      "100% (32 of 32) |########################| Elapsed Time: 0:00:00 Time:  0:00:00\n",
      "100% (32 of 32) |########################| Elapsed Time: 0:00:00 Time:  0:00:00\n",
      "100% (32 of 32) |########################| Elapsed Time: 0:00:00 Time:  0:00:00\n",
      "100% (32 of 32) |########################| Elapsed Time: 0:00:00 Time:  0:00:00\n",
      "100% (32 of 32) |########################| Elapsed Time: 0:00:00 Time:  0:00:00\n",
      "100% (32 of 32) |########################| Elapsed Time: 0:00:00 Time:  0:00:00\n",
      "100% (32 of 32) |########################| Elapsed Time: 0:00:00 Time:  0:00:00\n",
      "100% (32 of 32) |########################| Elapsed Time: 0:00:00 Time:  0:00:00\n",
      "100% (32 of 32) |########################| Elapsed Time: 0:00:00 Time:  0:00:00\n",
      "100% (32 of 32) |########################| Elapsed Time: 0:00:00 Time:  0:00:00\n",
      "100% (32 of 32) |########################| Elapsed Time: 0:00:00 Time:  0:00:00\n",
      "100% (32 of 32) |########################| Elapsed Time: 0:00:00 Time:  0:00:00\n",
      "100% (32 of 32) |########################| Elapsed Time: 0:00:00 Time:  0:00:00\n",
      "100% (32 of 32) |########################| Elapsed Time: 0:00:00 Time:  0:00:00\n",
      "100% (32 of 32) |########################| Elapsed Time: 0:00:00 Time:  0:00:00\n",
      "100% (32 of 32) |########################| Elapsed Time: 0:00:00 Time:  0:00:00\n",
      "100% (32 of 32) |########################| Elapsed Time: 0:00:00 Time:  0:00:00\n",
      "100% (32 of 32) |########################| Elapsed Time: 0:00:00 Time:  0:00:00\n",
      "100% (32 of 32) |########################| Elapsed Time: 0:00:00 Time:  0:00:00\n",
      "100% (32 of 32) |########################| Elapsed Time: 0:00:00 Time:  0:00:00\n",
      "100% (32 of 32) |########################| Elapsed Time: 0:00:00 Time:  0:00:00\n",
      "100% (32 of 32) |########################| Elapsed Time: 0:00:00 Time:  0:00:00\n",
      "100% (32 of 32) |########################| Elapsed Time: 0:00:00 Time:  0:00:00\n",
      "100% (32 of 32) |########################| Elapsed Time: 0:00:00 Time:  0:00:00\n",
      "100% (32 of 32) |########################| Elapsed Time: 0:00:00 Time:  0:00:00\n",
      "100% (32 of 32) |########################| Elapsed Time: 0:00:00 Time:  0:00:00\n",
      "100% (32 of 32) |########################| Elapsed Time: 0:00:00 Time:  0:00:00\n",
      "100% (32 of 32) |########################| Elapsed Time: 0:00:00 Time:  0:00:00\n",
      "100% (32 of 32) |########################| Elapsed Time: 0:00:00 Time:  0:00:00\n",
      "100% (32 of 32) |########################| Elapsed Time: 0:00:00 Time:  0:00:00\n",
      "100% (32 of 32) |########################| Elapsed Time: 0:00:00 Time:  0:00:00\n",
      "100% (32 of 32) |########################| Elapsed Time: 0:00:00 Time:  0:00:00\n",
      "100% (32 of 32) |########################| Elapsed Time: 0:00:00 Time:  0:00:00\n",
      "100% (32 of 32) |########################| Elapsed Time: 0:00:00 Time:  0:00:00\n",
      "100% (32 of 32) |########################| Elapsed Time: 0:00:00 Time:  0:00:00\n",
      "100% (32 of 32) |########################| Elapsed Time: 0:00:00 Time:  0:00:00\n",
      "100% (32 of 32) |########################| Elapsed Time: 0:00:00 Time:  0:00:00\n",
      "100% (32 of 32) |########################| Elapsed Time: 0:00:00 Time:  0:00:00\n",
      "100% (32 of 32) |########################| Elapsed Time: 0:00:00 Time:  0:00:00\n",
      "100% (32 of 32) |########################| Elapsed Time: 0:00:00 Time:  0:00:00\n",
      "100% (32 of 32) |########################| Elapsed Time: 0:00:00 Time:  0:00:00\n",
      "100% (32 of 32) |########################| Elapsed Time: 0:00:00 Time:  0:00:00\n",
      "100% (32 of 32) |########################| Elapsed Time: 0:00:00 Time:  0:00:00\n",
      "100% (32 of 32) |########################| Elapsed Time: 0:00:00 Time:  0:00:00\n",
      "100% (32 of 32) |########################| Elapsed Time: 0:00:00 Time:  0:00:00\n",
      "100% (32 of 32) |########################| Elapsed Time: 0:00:00 Time:  0:00:00\n",
      "100% (32 of 32) |########################| Elapsed Time: 0:00:00 Time:  0:00:00\n",
      "100% (32 of 32) |########################| Elapsed Time: 0:00:00 Time:  0:00:00\n",
      "100% (32 of 32) |########################| Elapsed Time: 0:00:00 Time:  0:00:00\n",
      "100% (32 of 32) |########################| Elapsed Time: 0:00:00 Time:  0:00:00\n",
      "100% (32 of 32) |########################| Elapsed Time: 0:00:00 Time:  0:00:00\n",
      "100% (32 of 32) |########################| Elapsed Time: 0:00:00 Time:  0:00:00\n",
      "100% (32 of 32) |########################| Elapsed Time: 0:00:00 Time:  0:00:00\n",
      "100% (32 of 32) |########################| Elapsed Time: 0:00:00 Time:  0:00:00\n",
      "100% (32 of 32) |########################| Elapsed Time: 0:00:00 Time:  0:00:00\n",
      "100% (32 of 32) |########################| Elapsed Time: 0:00:00 Time:  0:00:00\n",
      "100% (32 of 32) |########################| Elapsed Time: 0:00:00 Time:  0:00:00\n",
      "100% (32 of 32) |########################| Elapsed Time: 0:00:00 Time:  0:00:00\n",
      "100% (32 of 32) |########################| Elapsed Time: 0:00:00 Time:  0:00:00\n",
      "100% (32 of 32) |########################| Elapsed Time: 0:00:00 Time:  0:00:00\n",
      "100% (32 of 32) |########################| Elapsed Time: 0:00:00 Time:  0:00:00\n",
      "100% (32 of 32) |########################| Elapsed Time: 0:00:00 Time:  0:00:00\n",
      "100% (32 of 32) |########################| Elapsed Time: 0:00:00 Time:  0:00:00\n",
      "100% (32 of 32) |########################| Elapsed Time: 0:00:00 Time:  0:00:00\n",
      "100% (32 of 32) |########################| Elapsed Time: 0:00:00 Time:  0:00:00\n",
      "100% (32 of 32) |########################| Elapsed Time: 0:00:00 Time:  0:00:00\n",
      "100% (32 of 32) |########################| Elapsed Time: 0:00:00 Time:  0:00:00\n",
      "100% (32 of 32) |########################| Elapsed Time: 0:00:00 Time:  0:00:00\n",
      "100% (32 of 32) |########################| Elapsed Time: 0:00:00 Time:  0:00:00\n",
      "100% (32 of 32) |########################| Elapsed Time: 0:00:00 Time:  0:00:00\n",
      "100% (32 of 32) |########################| Elapsed Time: 0:00:00 Time:  0:00:00\n",
      "100% (32 of 32) |########################| Elapsed Time: 0:00:00 Time:  0:00:00\n",
      "100% (32 of 32) |########################| Elapsed Time: 0:00:00 Time:  0:00:00\n",
      "100% (32 of 32) |########################| Elapsed Time: 0:00:00 Time:  0:00:00\n",
      "100% (32 of 32) |########################| Elapsed Time: 0:00:00 Time:  0:00:00\n",
      "100% (32 of 32) |########################| Elapsed Time: 0:00:00 Time:  0:00:00\n",
      "100% (32 of 32) |########################| Elapsed Time: 0:00:00 Time:  0:00:00\n",
      "100% (32 of 32) |########################| Elapsed Time: 0:00:00 Time:  0:00:00\n",
      "100% (32 of 32) |########################| Elapsed Time: 0:00:00 Time:  0:00:00\n",
      "100% (32 of 32) |########################| Elapsed Time: 0:00:00 Time:  0:00:00\n",
      "100% (32 of 32) |########################| Elapsed Time: 0:00:00 Time:  0:00:00\n",
      "100% (32 of 32) |########################| Elapsed Time: 0:00:00 Time:  0:00:00\n",
      "100% (32 of 32) |########################| Elapsed Time: 0:00:00 Time:  0:00:00\n",
      "100% (32 of 32) |########################| Elapsed Time: 0:00:00 Time:  0:00:00\n",
      "100% (32 of 32) |########################| Elapsed Time: 0:00:00 Time:  0:00:00\n",
      "100% (32 of 32) |########################| Elapsed Time: 0:00:00 Time:  0:00:00\n",
      "100% (32 of 32) |########################| Elapsed Time: 0:00:00 Time:  0:00:00\n",
      "100% (32 of 32) |########################| Elapsed Time: 0:00:00 Time:  0:00:00\n",
      "100% (32 of 32) |########################| Elapsed Time: 0:00:00 Time:  0:00:00\n",
      "100% (32 of 32) |########################| Elapsed Time: 0:00:00 Time:  0:00:00\n",
      "100% (32 of 32) |########################| Elapsed Time: 0:00:00 Time:  0:00:00\n",
      "100% (32 of 32) |########################| Elapsed Time: 0:00:00 Time:  0:00:00\n",
      "100% (32 of 32) |########################| Elapsed Time: 0:00:00 Time:  0:00:00\n",
      "100% (32 of 32) |########################| Elapsed Time: 0:00:00 Time:  0:00:00\n",
      "100% (32 of 32) |########################| Elapsed Time: 0:00:00 Time:  0:00:00\n",
      "100% (32 of 32) |########################| Elapsed Time: 0:00:00 Time:  0:00:00\n",
      "100% (32 of 32) |########################| Elapsed Time: 0:00:00 Time:  0:00:00\n"
     ]
    }
   ],
   "source": [
    "err_order_hist = tfim_survey.histogram(seed_range, 5, 4)"
   ]
  },
  {
   "cell_type": "code",
   "execution_count": 4,
   "id": "59b76aae-a1be-436d-9570-9e3cb76450cc",
   "metadata": {},
   "outputs": [
    {
     "data": {
      "text/plain": [
       "(array([ 1.,  0.,  0.,  0.,  0.,  0.,  0.,  0.,  0.,  0.,  0.,  0.,  0.,\n",
       "         0.,  0.,  0.,  0.,  0.,  0.,  0.,  0.,  0.,  0.,  0.,  0.,  0.,\n",
       "         0.,  0.,  0.,  0.,  0.,  0.,  0.,  0.,  0.,  0.,  0.,  0.,  0.,\n",
       "         0.,  0.,  0.,  0.,  0.,  0.,  0.,  0.,  0.,  0.,  0.,  0.,  0.,\n",
       "         0.,  0.,  0.,  0.,  0.,  0.,  0.,  0.,  0.,  0.,  0.,  0.,  0.,\n",
       "         0.,  0.,  0.,  0.,  0.,  0.,  0.,  0.,  0.,  0.,  0.,  0.,  0.,\n",
       "         0.,  0.,  0.,  0.,  0.,  0.,  0.,  0.,  0.,  0.,  0.,  0.,  0.,\n",
       "         0.,  0.,  0.,  0.,  0.,  0.,  1.,  0.,  1.,  0.,  0.,  0.,  1.,\n",
       "         0.,  0.,  0.,  1.,  3.,  4.,  2.,  1.,  0.,  8.,  3.,  8.,  3.,\n",
       "         5.,  2.,  4.,  7., 14., 10., 10., 12.,  6., 20., 22., 47., 93.,\n",
       "        90., 37., 28., 16.,  9.,  4.,  9., 11.,  6.,  3.,  1.,  2.,  3.,\n",
       "         3.,  1.,  0.,  2.,  3.,  0.,  0.,  1.,  1.,  0.,  0.,  0.,  0.,\n",
       "         0.,  0.,  0.,  0.,  0.,  0.,  0.,  0.,  0.,  0.,  0.,  0.,  0.,\n",
       "         0.,  0.,  0.,  1.]),\n",
       " array([2.55525544, 2.57404768, 2.59283992, 2.61163216, 2.6304244 ,\n",
       "        2.64921664, 2.66800888, 2.68680112, 2.70559336, 2.7243856 ,\n",
       "        2.74317784, 2.76197008, 2.78076232, 2.79955456, 2.8183468 ,\n",
       "        2.83713904, 2.85593127, 2.87472351, 2.89351575, 2.91230799,\n",
       "        2.93110023, 2.94989247, 2.96868471, 2.98747695, 3.00626919,\n",
       "        3.02506143, 3.04385367, 3.06264591, 3.08143815, 3.10023039,\n",
       "        3.11902263, 3.13781487, 3.15660711, 3.17539935, 3.19419159,\n",
       "        3.21298383, 3.23177606, 3.2505683 , 3.26936054, 3.28815278,\n",
       "        3.30694502, 3.32573726, 3.3445295 , 3.36332174, 3.38211398,\n",
       "        3.40090622, 3.41969846, 3.4384907 , 3.45728294, 3.47607518,\n",
       "        3.49486742, 3.51365966, 3.5324519 , 3.55124414, 3.57003638,\n",
       "        3.58882861, 3.60762085, 3.62641309, 3.64520533, 3.66399757,\n",
       "        3.68278981, 3.70158205, 3.72037429, 3.73916653, 3.75795877,\n",
       "        3.77675101, 3.79554325, 3.81433549, 3.83312773, 3.85191997,\n",
       "        3.87071221, 3.88950445, 3.90829669, 3.92708893, 3.94588117,\n",
       "        3.9646734 , 3.98346564, 4.00225788, 4.02105012, 4.03984236,\n",
       "        4.0586346 , 4.07742684, 4.09621908, 4.11501132, 4.13380356,\n",
       "        4.1525958 , 4.17138804, 4.19018028, 4.20897252, 4.22776476,\n",
       "        4.246557  , 4.26534924, 4.28414148, 4.30293372, 4.32172596,\n",
       "        4.34051819, 4.35931043, 4.37810267, 4.39689491, 4.41568715,\n",
       "        4.43447939, 4.45327163, 4.47206387, 4.49085611, 4.50964835,\n",
       "        4.52844059, 4.54723283, 4.56602507, 4.58481731, 4.60360955,\n",
       "        4.62240179, 4.64119403, 4.65998627, 4.67877851, 4.69757074,\n",
       "        4.71636298, 4.73515522, 4.75394746, 4.7727397 , 4.79153194,\n",
       "        4.81032418, 4.82911642, 4.84790866, 4.8667009 , 4.88549314,\n",
       "        4.90428538, 4.92307762, 4.94186986, 4.9606621 , 4.97945434,\n",
       "        4.99824658, 5.01703882, 5.03583106, 5.0546233 , 5.07341553,\n",
       "        5.09220777, 5.11100001, 5.12979225, 5.14858449, 5.16737673,\n",
       "        5.18616897, 5.20496121, 5.22375345, 5.24254569, 5.26133793,\n",
       "        5.28013017, 5.29892241, 5.31771465, 5.33650689, 5.35529913,\n",
       "        5.37409137, 5.39288361, 5.41167585, 5.43046808, 5.44926032,\n",
       "        5.46805256, 5.4868448 , 5.50563704, 5.52442928, 5.54322152,\n",
       "        5.56201376, 5.580806  , 5.59959824, 5.61839048, 5.63718272,\n",
       "        5.65597496, 5.6747672 , 5.69355944, 5.71235168, 5.73114392,\n",
       "        5.74993616, 5.7687284 , 5.78752064, 5.80631287]),\n",
       " <BarContainer object of 173 artists>)"
      ]
     },
     "execution_count": 4,
     "metadata": {},
     "output_type": "execute_result"
    },
    {
     "data": {
      "image/png": "[encoded data removed]",
      "text/plain": [
       "<Figure size 432x288 with 1 Axes>"
      ]
     },
     "metadata": {
      "needs_background": "light"
     },
     "output_type": "display_data"
    }
   ],
   "source": [
    "plt.hist(err_order_hist, bins = 'auto')"
   ]
  },
  {
   "cell_type": "code",
   "execution_count": null,
   "id": "3e719450-21dc-41e2-a51a-df997fc35e24",
   "metadata": {},
   "outputs": [],
   "source": []
  }
 ],
 "metadata": {
  "kernelspec": {
   "display_name": "Python 3",
   "language": "python",
   "name": "python3"
  },
  "language_info": {
   "codemirror_mode": {
    "name": "ipython",
    "version": 3
   },
   "file_extension": ".py",
   "mimetype": "text/x-python",
   "name": "python",
   "nbconvert_exporter": "python",
   "pygments_lexer": "ipython3",
   "version": "3.8.8"
  }
 },
 "nbformat": 4,
 "nbformat_minor": 5
}
