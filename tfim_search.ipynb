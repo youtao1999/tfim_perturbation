{
 "cells": [
  {
   "cell_type": "code",
   "execution_count": 36,
   "metadata": {},
   "outputs": [],
   "source": [
    "import tfim\n",
    "import numpy as np\n",
    "from scipy import sparse\n",
    "from scipy.sparse import linalg as spla\n",
    "from scipy import linalg\n",
    "import matplotlib.pyplot as plt\n",
    "from scipy import optimize\n",
    "import progressbar"
   ]
  },
  {
   "cell_type": "code",
   "execution_count": 37,
   "metadata": {},
   "outputs": [],
   "source": [
    "PBC = True\n",
    "L = [3]\n",
    "J = 1"
   ]
  },
  {
   "cell_type": "code",
   "execution_count": 38,
   "metadata": {},
   "outputs": [],
   "source": [
    "# Build lattice and basis\n",
    "###################################\n",
    "lattice = tfim.Lattice(L, PBC)\n",
    "N = lattice.N\n",
    "basis = tfim.IsingBasis(lattice)\n",
    "###################################"
   ]
  },
  {
   "cell_type": "code",
   "execution_count": 39,
   "metadata": {},
   "outputs": [],
   "source": [
    "seed_range = range(10);\n",
    "\n",
    "Jij_array = [];\n",
    "\n",
    "for i in seed_range:\n",
    "    Jij = tfim.Jij_instance(N,J,\"bimodal\",i) \n",
    "    Jij_array.append(Jij)"
   ]
  },
  {
   "cell_type": "code",
   "execution_count": 40,
   "metadata": {},
   "outputs": [
    {
     "name": "stderr",
     "output_type": "stream",
     "text": [
      "100% |########################################################################|\n",
      "100% |########################################################################|\n",
      "100% |########################################################################|\n",
      "100% |########################################################################|\n",
      "100% |########################################################################|\n",
      "100% |########################################################################|\n",
      "100% |########################################################################|\n",
      "100% |########################################################################|\n",
      "100% |########################################################################|\n",
      "100% |########################################################################|\n"
     ]
    }
   ],
   "source": [
    "# Calculate energy array:\n",
    "\n",
    "indices_array = []\n",
    "\n",
    "for Jij in Jij_array:\n",
    "    Energies = tfim.JZZ_SK_ME(basis,Jij) # Why was there a minus sign?\n",
    "    GS_energy = np.min(Energies)\n",
    "    GS_indices = np.nonzero(Energies == GS_energy)[0]\n",
    "    indices_array.append(GS_indices)"
   ]
  },
  {
   "cell_type": "code",
   "execution_count": 41,
   "metadata": {},
   "outputs": [],
   "source": [
    "# Define Hamming distance\n",
    "def Hamming_distance(state_1, state_2):\n",
    "    return len(np.nonzero(state_1 - state_2)[0])\n",
    "\n",
    "# Calculate Hamming distance array\n",
    "\n",
    "def Hamming_array(GS_indices):\n",
    "    Hamming = np.zeros((len(GS_indices), len(GS_indices)-1))\n",
    "    for i, n in enumerate(GS_indices):\n",
    "        basis_n = basis.state(n)\n",
    "        for j, m in enumerate(np.delete(GS_indices,i)):\n",
    "            basis_m = basis.state(m)\n",
    "            Hamming[i, j] = Hamming_distance(basis_n, basis_m)\n",
    "    return Hamming"
   ]
  },
  {
   "cell_type": "code",
   "execution_count": 42,
   "metadata": {},
   "outputs": [],
   "source": [
    "def search_2(array):\n",
    "    if np.amin(array) == 2:\n",
    "        return True\n",
    "    else:\n",
    "        return False"
   ]
  },
  {
   "cell_type": "code",
   "execution_count": 45,
   "metadata": {
    "scrolled": true
   },
   "outputs": [
    {
     "name": "stdout",
     "output_type": "stream",
     "text": [
      "[[1. 2. 1. 2. 3.]\n",
      " [1. 1. 2. 3. 2.]\n",
      " [2. 1. 3. 2. 1.]\n",
      " [1. 2. 3. 1. 2.]\n",
      " [2. 3. 2. 1. 1.]\n",
      " [3. 2. 1. 2. 1.]]\n",
      "[[1. 2. 1. 2. 3.]\n",
      " [1. 1. 2. 3. 2.]\n",
      " [2. 1. 3. 2. 1.]\n",
      " [1. 2. 3. 1. 2.]\n",
      " [2. 3. 2. 1. 1.]\n",
      " [3. 2. 1. 2. 1.]]\n",
      "[[1. 2. 1. 2. 3.]\n",
      " [1. 1. 2. 3. 2.]\n",
      " [2. 1. 3. 2. 1.]\n",
      " [1. 2. 3. 1. 2.]\n",
      " [2. 3. 2. 1. 1.]\n",
      " [3. 2. 1. 2. 1.]]\n",
      "[[1. 1. 2. 2. 3.]\n",
      " [1. 2. 1. 3. 2.]\n",
      " [1. 2. 3. 1. 2.]\n",
      " [2. 1. 3. 2. 1.]\n",
      " [2. 3. 1. 2. 1.]\n",
      " [3. 2. 2. 1. 1.]]\n",
      "[[1. 1. 2. 2. 3.]\n",
      " [1. 2. 1. 3. 2.]\n",
      " [1. 2. 3. 1. 2.]\n",
      " [2. 1. 3. 2. 1.]\n",
      " [2. 3. 1. 2. 1.]\n",
      " [3. 2. 2. 1. 1.]]\n",
      "[[1. 1. 2. 2. 3.]\n",
      " [1. 2. 1. 3. 2.]\n",
      " [1. 2. 3. 1. 2.]\n",
      " [2. 1. 3. 2. 1.]\n",
      " [2. 3. 1. 2. 1.]\n",
      " [3. 2. 2. 1. 1.]]\n",
      "[[1. 1. 2. 2. 3.]\n",
      " [1. 2. 1. 3. 2.]\n",
      " [1. 2. 3. 1. 2.]\n",
      " [2. 1. 3. 2. 1.]\n",
      " [2. 3. 1. 2. 1.]\n",
      " [3. 2. 2. 1. 1.]]\n",
      "[[1. 2. 1. 2. 3.]\n",
      " [1. 1. 2. 3. 2.]\n",
      " [2. 1. 3. 2. 1.]\n",
      " [1. 2. 3. 1. 2.]\n",
      " [2. 3. 2. 1. 1.]\n",
      " [3. 2. 1. 2. 1.]]\n",
      "[[1. 2. 1. 2. 3.]\n",
      " [1. 1. 2. 3. 2.]\n",
      " [2. 1. 3. 2. 1.]\n",
      " [1. 2. 3. 1. 2.]\n",
      " [2. 3. 2. 1. 1.]\n",
      " [3. 2. 1. 2. 1.]]\n",
      "[[1. 1. 2. 2. 3.]\n",
      " [1. 2. 1. 3. 2.]\n",
      " [1. 2. 3. 1. 2.]\n",
      " [2. 1. 3. 2. 1.]\n",
      " [2. 3. 1. 2. 1.]\n",
      " [3. 2. 2. 1. 1.]]\n",
      "[]\n"
     ]
    }
   ],
   "source": [
    "# search for Hamming distance 2\n",
    "\n",
    "seed_list = []\n",
    "\n",
    "for index, indices in enumerate(indices_array):\n",
    "    if search_2(Hamming_array(indices)):\n",
    "        seed_list.append(index)\n",
    "    print Hamming_array(indices)\n",
    "        \n",
    "print seed_list"
   ]
  },
  {
   "cell_type": "code",
   "execution_count": 44,
   "metadata": {},
   "outputs": [],
   "source": [
    "# pass Jij, GS_states only, build each order of perturbation theory one at a time\n",
    "# module: 1st order, and second order matrices"
   ]
  }
 ],
 "metadata": {
  "kernelspec": {
   "display_name": "Python 2",
   "language": "python",
   "name": "python2"
  },
  "language_info": {
   "codemirror_mode": {
    "name": "ipython",
    "version": 2
   },
   "file_extension": ".py",
   "mimetype": "text/x-python",
   "name": "python",
   "nbconvert_exporter": "python",
   "pygments_lexer": "ipython2",
   "version": "2.7.18"
  }
 },
 "nbformat": 4,
 "nbformat_minor": 2
}
