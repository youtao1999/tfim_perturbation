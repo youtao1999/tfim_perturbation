{
 "cells": [
  {
   "cell_type": "code",
   "execution_count": 1,
   "metadata": {},
   "outputs": [],
   "source": [
    "import tfim\n",
    "import numpy as np\n",
    "from scipy import sparse\n",
    "from scipy.sparse import linalg as spla\n",
    "from scipy import linalg\n",
    "import matplotlib.pyplot as plt\n",
    "from scipy import optimize\n",
    "import progressbar"
   ]
  },
  {
   "cell_type": "code",
   "execution_count": 2,
   "metadata": {},
   "outputs": [],
   "source": [
    "PBC = True\n",
    "L = [7]\n",
    "J = 1"
   ]
  },
  {
   "cell_type": "code",
   "execution_count": 3,
   "metadata": {},
   "outputs": [],
   "source": [
    "# Build lattice and basis\n",
    "###################################\n",
    "lattice = tfim.Lattice(L, PBC)\n",
    "N = lattice.N\n",
    "basis = tfim.IsingBasis(lattice)\n",
    "###################################"
   ]
  },
  {
   "cell_type": "code",
   "execution_count": 4,
   "metadata": {},
   "outputs": [],
   "source": [
    "seed_range = range(10);\n",
    "\n",
    "Jij_array = [];\n",
    "\n",
    "for i in seed_range:\n",
    "    Jij = tfim.Jij_instance(N,J,\"bimodal\",i) \n",
    "    Jij_array.append(Jij)"
   ]
  },
  {
   "cell_type": "code",
   "execution_count": 6,
   "metadata": {},
   "outputs": [
    {
     "name": "stderr",
     "output_type": "stream",
     "text": [
      "100% |########################################################################|\n",
      "100% |########################################################################|\n",
      "100% |########################################################################|\n",
      "100% |########################################################################|\n",
      "100% |########################################################################|\n",
      "100% |########################################################################|\n",
      "100% |########################################################################|\n",
      "100% |########################################################################|\n",
      "100% |########################################################################|\n",
      "100% |########################################################################|\n"
     ]
    }
   ],
   "source": [
    "# Calculate energy array:\n",
    "\n",
    "indices_array = []\n",
    "\n",
    "for Jij in Jij_array:\n",
    "    Energies = -tfim.JZZ_SK_ME(basis,Jij)\n",
    "    GS_energy = np.min(Energies)\n",
    "    GS_indices = np.nonzero(Energies == GS_energy)[0]\n",
    "    indices_array.append(GS_indices)\n",
    "    "
   ]
  },
  {
   "cell_type": "code",
   "execution_count": 7,
   "metadata": {},
   "outputs": [],
   "source": [
    "# Define Hamming distance\n",
    "def Hamming_distance(state_1, state_2):\n",
    "    return len(np.nonzero(state_1 - state_2)[0])\n",
    "\n",
    "# Calculate Hamming distance array\n",
    "\n",
    "def Hamming_array(GS_indices):\n",
    "    Hamming = np.zeros((len(GS_indices), len(GS_indices)-1))\n",
    "    for i, n in enumerate(GS_indices):\n",
    "        basis_n = basis.state(n)\n",
    "        for j, m in enumerate(np.delete(GS_indices,i)):\n",
    "            basis_m = basis.state(m)\n",
    "            Hamming[i, j] = Hamming_distance(basis_n, basis_m)\n",
    "    return Hamming"
   ]
  },
  {
   "cell_type": "code",
   "execution_count": 8,
   "metadata": {},
   "outputs": [],
   "source": [
    "def search_2(array):\n",
    "    if np.amin(array) == 4:\n",
    "        return True\n",
    "    else:\n",
    "        return False"
   ]
  },
  {
   "cell_type": "code",
   "execution_count": 10,
   "metadata": {
    "scrolled": true
   },
   "outputs": [
    {
     "name": "stdout",
     "output_type": "stream",
     "text": [
      "[[7.]\n",
      " [7.]]\n",
      "[[7.]\n",
      " [7.]]\n",
      "[[1. 1. 4. 5. 4. 5. 3. 2. 5. 4. 2. 3. 2. 3. 6. 6. 7.]\n",
      " [1. 2. 5. 4. 3. 6. 2. 1. 6. 5. 1. 4. 3. 2. 5. 7. 6.]\n",
      " [1. 2. 5. 6. 5. 4. 4. 3. 4. 3. 3. 2. 1. 2. 7. 5. 6.]\n",
      " [4. 5. 5. 1. 2. 1. 3. 4. 3. 4. 6. 5. 6. 7. 2. 2. 3.]\n",
      " [5. 4. 6. 1. 1. 2. 2. 3. 4. 5. 5. 6. 7. 6. 1. 3. 2.]\n",
      " [4. 3. 5. 2. 1. 3. 1. 2. 5. 6. 4. 7. 6. 5. 2. 4. 3.]\n",
      " [5. 6. 4. 1. 2. 3. 4. 5. 2. 3. 7. 4. 5. 6. 3. 1. 2.]\n",
      " [3. 2. 4. 3. 2. 1. 4. 1. 6. 7. 3. 6. 5. 4. 3. 5. 4.]\n",
      " [2. 1. 3. 4. 3. 2. 5. 1. 7. 6. 2. 5. 4. 3. 4. 6. 5.]\n",
      " [5. 6. 4. 3. 4. 5. 2. 6. 7. 1. 5. 2. 3. 4. 3. 1. 2.]\n",
      " [4. 5. 3. 4. 5. 6. 3. 7. 6. 1. 4. 1. 2. 3. 4. 2. 3.]\n",
      " [2. 1. 3. 6. 5. 4. 7. 3. 2. 5. 4. 3. 2. 1. 4. 6. 5.]\n",
      " [3. 4. 2. 5. 6. 7. 4. 6. 5. 2. 1. 3. 1. 2. 5. 3. 4.]\n",
      " [2. 3. 1. 6. 7. 6. 5. 5. 4. 3. 2. 2. 1. 1. 6. 4. 5.]\n",
      " [3. 2. 2. 7. 6. 5. 6. 4. 3. 4. 3. 1. 2. 1. 5. 5. 4.]\n",
      " [6. 5. 7. 2. 1. 2. 3. 3. 4. 3. 4. 4. 5. 6. 5. 2. 1.]\n",
      " [6. 7. 5. 2. 3. 4. 1. 5. 6. 1. 2. 6. 3. 4. 5. 2. 1.]\n",
      " [7. 6. 6. 3. 2. 3. 2. 4. 5. 2. 3. 5. 4. 5. 4. 1. 1.]]\n",
      "[[7.]\n",
      " [7.]]\n",
      "[[1. 6. 7.]\n",
      " [1. 7. 6.]\n",
      " [6. 7. 1.]\n",
      " [7. 6. 1.]]\n",
      "[[7.]\n",
      " [7.]]\n",
      "[[7.]\n",
      " [7.]]\n",
      "[[7.]\n",
      " [7.]]\n",
      "[[1. 2. 3. 5. 4. 5. 4. 6. 1. 3. 2. 3. 2. 4. 5. 6. 7.]\n",
      " [1. 1. 2. 4. 3. 4. 3. 5. 2. 4. 3. 4. 3. 5. 6. 7. 6.]\n",
      " [2. 1. 1. 3. 2. 3. 2. 4. 3. 5. 4. 5. 4. 6. 7. 6. 5.]\n",
      " [3. 2. 1. 2. 1. 2. 1. 3. 4. 6. 5. 6. 5. 7. 6. 5. 4.]\n",
      " [5. 4. 3. 2. 1. 2. 3. 1. 6. 4. 5. 6. 7. 5. 4. 3. 2.]\n",
      " [4. 3. 2. 1. 1. 3. 2. 2. 5. 5. 4. 7. 6. 6. 5. 4. 3.]\n",
      " [5. 4. 3. 2. 2. 3. 1. 1. 6. 6. 7. 4. 5. 5. 4. 3. 2.]\n",
      " [4. 3. 2. 1. 3. 2. 1. 2. 5. 7. 6. 5. 4. 6. 5. 4. 3.]\n",
      " [6. 5. 4. 3. 1. 2. 1. 2. 7. 5. 6. 5. 6. 4. 3. 2. 1.]\n",
      " [1. 2. 3. 4. 6. 5. 6. 5. 7. 2. 1. 2. 1. 3. 4. 5. 6.]\n",
      " [3. 4. 5. 6. 4. 5. 6. 7. 5. 2. 1. 2. 3. 1. 2. 3. 4.]\n",
      " [2. 3. 4. 5. 5. 4. 7. 6. 6. 1. 1. 3. 2. 2. 3. 4. 5.]\n",
      " [3. 4. 5. 6. 6. 7. 4. 5. 5. 2. 2. 3. 1. 1. 2. 3. 4.]\n",
      " [2. 3. 4. 5. 7. 6. 5. 4. 6. 1. 3. 2. 1. 2. 3. 4. 5.]\n",
      " [4. 5. 6. 7. 5. 6. 5. 6. 4. 3. 1. 2. 1. 2. 1. 2. 3.]\n",
      " [5. 6. 7. 6. 4. 5. 4. 5. 3. 4. 2. 3. 2. 3. 1. 1. 2.]\n",
      " [6. 7. 6. 5. 3. 4. 3. 4. 2. 5. 3. 4. 3. 4. 2. 1. 1.]\n",
      " [7. 6. 5. 4. 2. 3. 2. 3. 1. 6. 4. 5. 4. 5. 3. 2. 1.]]\n",
      "[[1. 6. 7.]\n",
      " [1. 7. 6.]\n",
      " [6. 7. 1.]\n",
      " [7. 6. 1.]]\n",
      "[]\n"
     ]
    }
   ],
   "source": [
    "# search for Hamming distance 2\n",
    "\n",
    "seed_list = []\n",
    "\n",
    "for index, indices in enumerate(indices_array):\n",
    "    if search_2(Hamming_array(indices)):\n",
    "        seed_list.append(index)\n",
    "    print(Hamming_array(indices))\n",
    "        \n",
    "print(seed_list)"
   ]
  },
  {
   "cell_type": "code",
   "execution_count": null,
   "metadata": {},
   "outputs": [],
   "source": [
    "# pass Jij, GS_states only, build each order of perturbation theory one at a time\n",
    "# module: 1st order, and second order matrices"
   ]
  }
 ],
 "metadata": {
  "kernelspec": {
   "display_name": "Python 3",
   "language": "python",
   "name": "python3"
  },
  "language_info": {
   "codemirror_mode": {
    "name": "ipython",
    "version": 3
   },
   "file_extension": ".py",
   "mimetype": "text/x-python",
   "name": "python",
   "nbconvert_exporter": "python",
   "pygments_lexer": "ipython3",
   "version": "3.7.6"
  }
 },
 "nbformat": 4,
 "nbformat_minor": 4
}
