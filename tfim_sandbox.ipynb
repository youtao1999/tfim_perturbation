{
 "cells": [
  {
   "cell_type": "code",
   "execution_count": 43,
   "metadata": {},
   "outputs": [],
   "source": [
    "import tfim\n",
    "import tfim_perturbation\n",
    "import numpy as np\n",
    "from scipy import sparse\n",
    "from scipy.sparse import linalg as spla\n",
    "from scipy import linalg\n",
    "import matplotlib.pyplot as plt\n",
    "from scipy import optimize\n",
    "import progressbar"
   ]
  },
  {
   "cell_type": "code",
   "execution_count": 44,
   "metadata": {},
   "outputs": [],
   "source": [
    "PBC = True\n",
    "L = [3]\n",
    "J = 1"
   ]
  },
  {
   "cell_type": "code",
   "execution_count": 45,
   "metadata": {},
   "outputs": [],
   "source": [
    "# Build lattice and basis\n",
    "###################################\n",
    "lattice = tfim.Lattice(L, PBC)\n",
    "N = lattice.N\n",
    "basis = tfim.IsingBasis(lattice)\n",
    "###################################"
   ]
  },
  {
   "cell_type": "code",
   "execution_count": 46,
   "metadata": {},
   "outputs": [],
   "source": [
    "#construct random J matrix\n",
    "Jij = tfim.Jij_instance(N,J,\"bimodal\",7) "
   ]
  },
  {
   "cell_type": "code",
   "execution_count": 47,
   "metadata": {},
   "outputs": [
    {
     "name": "stderr",
     "output_type": "stream",
     "text": [
      "100% |########################################################################|\r"
     ]
    },
    {
     "name": "stdout",
     "output_type": "stream",
     "text": [
      "0 [0 0 0] 1.0\n",
      "1 [0 0 1] 1.0\n",
      "2 [0 1 0] -3.0\n",
      "3 [0 1 1] 1.0\n",
      "4 [1 0 0] 1.0\n",
      "5 [1 0 1] -3.0\n",
      "6 [1 1 0] 1.0\n",
      "7 [1 1 1] 1.0\n"
     ]
    },
    {
     "name": "stderr",
     "output_type": "stream",
     "text": [
      "\n"
     ]
    }
   ],
   "source": [
    "# List out all the spin_states, corresponding indices and energies\n",
    "Energies = -tfim.JZZ_SK_ME(basis,Jij)\n",
    "for index in range(2**N):\n",
    "    print index, basis.state(index), Energies[index]"
   ]
  },
  {
   "cell_type": "code",
   "execution_count": 48,
   "metadata": {},
   "outputs": [
    {
     "ename": "AttributeError",
     "evalue": "'module' object has no attribute 'H_app_0'",
     "output_type": "error",
     "traceback": [
      "\u001b[1;31m\u001b[0m",
      "\u001b[1;31mAttributeError\u001b[0mTraceback (most recent call last)",
      "\u001b[1;32m<ipython-input-48-ea9a9f231c96>\u001b[0m in \u001b[0;36m<module>\u001b[1;34m()\u001b[0m\n\u001b[0;32m      6\u001b[0m \u001b[1;31m#of ground state energies stored in GS_energy\u001b[0m\u001b[1;33m\u001b[0m\u001b[1;33m\u001b[0m\u001b[0m\n\u001b[0;32m      7\u001b[0m \u001b[1;33m\u001b[0m\u001b[0m\n\u001b[1;32m----> 8\u001b[1;33m \u001b[0mH_app_0\u001b[0m \u001b[1;33m=\u001b[0m \u001b[0mtfim_perturbation\u001b[0m\u001b[1;33m.\u001b[0m\u001b[0mH_app_0\u001b[0m\u001b[1;33m(\u001b[0m\u001b[0mGS_energy\u001b[0m\u001b[1;33m,\u001b[0m \u001b[0mGS_indices\u001b[0m\u001b[1;33m)\u001b[0m\u001b[1;33m\u001b[0m\u001b[0m\n\u001b[0m",
      "\u001b[1;31mAttributeError\u001b[0m: 'module' object has no attribute 'H_app_0'"
     ]
    }
   ],
   "source": [
    "# Find the GS energies, indices and construct H_0\n",
    "\n",
    "GS_energy, GS_indices = tfim_perturbation.GS(Energies)\n",
    "\n",
    "# Construct a list of ground state indices stored in GS_indices and a list\n",
    "#of ground state energies stored in GS_energy\n",
    "\n",
    "H_app_0 = tfim_perturbation.H_app_0(GS_energy, GS_indices)"
   ]
  },
  {
   "cell_type": "code",
   "execution_count": null,
   "metadata": {},
   "outputs": [],
   "source": [
    "# Find excited states (to be cut)\n",
    "\n",
    "ES_indices = [];\n",
    "ES_state = [];\n",
    "for i in range(2**N):\n",
    "    if i not in GS_indices:\n",
    "        ES_indices.append(i)\n",
    "\n",
    "for i in ES_indices:\n",
    "    ES_state.append(list(basis.state(i)))"
   ]
  },
  {
   "cell_type": "code",
   "execution_count": null,
   "metadata": {
    "scrolled": true
   },
   "outputs": [],
   "source": [
    "# First-Order term in perturbation theory\n",
    "\n",
    "H_app_1 = tfim_perturbation.H_app_1(basis, GS_indices, N)"
   ]
  },
  {
   "cell_type": "code",
   "execution_count": null,
   "metadata": {},
   "outputs": [],
   "source": [
    "# Second-Order term in perturbation theory\n",
    "\n",
    "H_app_2 = tfim_perturbation.H_app_2(basis, Jij, GS_indices, N, GS_energy)"
   ]
  },
  {
   "cell_type": "code",
   "execution_count": null,
   "metadata": {},
   "outputs": [],
   "source": [
    "# Build exact Hamiltonian\n",
    "V_exact = np.zeros((basis.M, basis.M))\n",
    "\n",
    "for ket in range(basis.M):\n",
    "    state = basis.state(ket)\n",
    "    for i in range(lattice.N):\n",
    "        basis.flip(state,i)\n",
    "        bra = basis.index(state)\n",
    "        V_exact[bra, ket] += 1\n",
    "        basis.flip(state,i)\n",
    "\n",
    "H_0_exact = np.diag(Energies)\n",
    "\n",
    "def H_exact(h_x):\n",
    "    return H_0_exact - h_x*V_exact"
   ]
  },
  {
   "cell_type": "code",
   "execution_count": null,
   "metadata": {},
   "outputs": [],
   "source": [
    "# Specify range of h_x\n",
    "\n",
    "h_x_range = np.arange(0, 0.1, 0.001)"
   ]
  },
  {
   "cell_type": "code",
   "execution_count": null,
   "metadata": {
    "scrolled": true
   },
   "outputs": [],
   "source": [
    "# Calculate and plot approximated GS energy for different values of h_x\n",
    "\n",
    "# Calculate eigenvalues and eigenstates for range(h_x)\n",
    "\n",
    "app_eigenvalues = np.zeros((len(GS_indices), len(h_x_range)))\n",
    "app_eigenstates = np.zeros((len(h_x_range), len(GS_indices), len(GS_indices)))\n",
    "\n",
    "for j, h_x in enumerate(h_x_range):\n",
    "    app_eigenvalue, app_eigenstate = np.linalg.eigh(tfim_perturbation.H_app(h_x, H_0, H_app_1, H_app_2, J));\n",
    "    for i in range(len(GS_indices)):\n",
    "        app_eigenvalues[i][j] = app_eigenvalue[i]\n",
    "        for k in range(len(GS_indices)):\n",
    "            app_eigenstates[j][i][k] = app_eigenstate[i][k]\n",
    "            \n",
    "for i in range(len(GS_indices)):\n",
    "    app_GS_energy_plot = plt.plot(h_x_range, app_eigenvalues[i])\n",
    "\n",
    "plt.ylabel(\"Approximated GS energy eigenvalues\")\n",
    "plt.show(app_GS_energy_plot)"
   ]
  },
  {
   "cell_type": "code",
   "execution_count": null,
   "metadata": {},
   "outputs": [],
   "source": [
    "# Calculate and plot exact energy eigenvalues and eigenstates for range(h_x)\n",
    "\n",
    "exc_eigenvalues = np.zeros((basis.M, len(h_x_range)))\n",
    "exc_eigenstates = np.zeros((len(h_x_range), basis.M, basis.M))\n",
    "\n",
    "for j, h_x in enumerate(h_x_range):\n",
    "    exc_eigenvalue, exc_eigenstate = np.linalg.eigh(H_exact(h_x));\n",
    "    for i in range(basis.M):\n",
    "        exc_eigenvalues[i][j] = exc_eigenvalue[i]\n",
    "        for k in range(basis.M):\n",
    "            exc_eigenstates[j][i][k] = exc_eigenstate[i][k]\n",
    "            \n",
    "for i in range(len(GS_indices)):\n",
    "    exc_GS_energy_plot = plt.plot(h_x_range, exc_eigenvalues[i])\n",
    "\n",
    "plt.ylabel(\"Exact GS energy eigenvalues\")\n",
    "plt.show(exc_GS_energy_plot)"
   ]
  },
  {
   "cell_type": "code",
   "execution_count": null,
   "metadata": {},
   "outputs": [],
   "source": [
    "# Compare the exact and approximated GS energies\n",
    "\n",
    "for i in range(len(GS_indices)):\n",
    "    plt.plot(h_x_range, app_eigenvalues[i], h_x_range, exc_eigenvalues[i])"
   ]
  },
  {
   "cell_type": "code",
   "execution_count": null,
   "metadata": {},
   "outputs": [],
   "source": [
    "# Calculate and plot energy errors\n",
    "\n",
    "corrected_exc_eigenvalues = np.zeros((len(GS_indices), len(h_x_range)))\n",
    "\n",
    "for i in range(len(GS_indices)):\n",
    "    for j in range(len(h_x_range)):\n",
    "        corrected_exc_eigenvalues[i, j] = exc_eigenvalues[i, j]\n",
    "\n",
    "error_array = np.absolute(corrected_exc_eigenvalues - app_eigenvalues)\n",
    "\n",
    "# Curve fit\n",
    "\n",
    "def poly_3(x, b):\n",
    "    return b*x**3;\n",
    "\n",
    "for i in range(len(GS_indices)):\n",
    "    popt, pcov = optimize.curve_fit(poly_3, h_x_range, error_array[i])\n",
    "    GS_energy_error_plot = plt.plot(h_x_range, error_array[i])\n",
    "    plt.plot(h_x_range, tfim_perturbation.poly_3(h_x_range, *popt))"
   ]
  },
  {
   "cell_type": "code",
   "execution_count": null,
   "metadata": {},
   "outputs": [],
   "source": [
    "# Calculate exact and approximate probabilities for each eigenstates"
   ]
  },
  {
   "cell_type": "code",
   "execution_count": null,
   "metadata": {},
   "outputs": [],
   "source": [
    "# Define probability for any eigenstates for a given h_x\n",
    "\n",
    "def prob(eigenstate):\n",
    "    norm = np.vdot(eigenstate, eigenstate)\n",
    "    normed_eigenstate = eigenstate/(norm**0.5)\n",
    "    return np.conjugate(normed_eigenstate)*normed_eigenstate"
   ]
  },
  {
   "cell_type": "code",
   "execution_count": null,
   "metadata": {},
   "outputs": [],
   "source": [
    "# Calculate probabilities for approximated eigenstates\n",
    "\n",
    "prob_app = np.zeros((len(GS_indices), len(h_x_range),))\n",
    "\n",
    "for j, h_x in enumerate(h_x_range):\n",
    "    GS_prob_vector = prob(app_eigenstates[j][:, 0])\n",
    "    for i in range(len(GS_indices)):\n",
    "        prob_app[i][j] = GS_prob_vector[i]\n",
    "\n",
    "# Plot probabilities for finding six bases states for system in ground eigenstate (approximated)\n",
    "\n",
    "for i in range(len(GS_indices)):\n",
    "    app_GS_probability_plot = plt.scatter(h_x_range, prob_app[i])\n",
    "\n",
    "plt.ylabel(\"GS probability for finding given basis state in approximated Hamiltonian\")\n",
    "plt.show(app_GS_probability_plot)"
   ]
  },
  {
   "cell_type": "code",
   "execution_count": null,
   "metadata": {},
   "outputs": [],
   "source": [
    "# Calculate probabilities for exact eigenstates\n",
    "\n",
    "prob_exc = np.zeros((len(GS_indices), len(h_x_range),))\n",
    "\n",
    "for j, h_x in enumerate(h_x_range):\n",
    "    GS_prob_vector = prob(exc_eigenstates[j][:, 0])\n",
    "    for k, i in enumerate(GS_indices):\n",
    "        prob_exc[k][j] = GS_prob_vector[i]\n",
    "\n",
    "# Plot probabilities for finding six bases states for system in ground eigenstate (exact)\n",
    "\n",
    "for i in range(len(GS_indices)):\n",
    "    exc_GS_probability_plot = plt.scatter(h_x_range, prob_exc[i])\n",
    "\n",
    "plt.ylabel(\"GS probability for finding given basis state in exact Hamiltonian\")\n",
    "plt.show(exc_GS_probability_plot)"
   ]
  },
  {
   "cell_type": "code",
   "execution_count": null,
   "metadata": {},
   "outputs": [],
   "source": [
    "# Compare probabilities\n",
    "\n",
    "for i in range(len(GS_indices)):\n",
    "    plt.plot(h_x_range, prob_app[i], h_x_range, prob_exc[i])"
   ]
  },
  {
   "cell_type": "code",
   "execution_count": null,
   "metadata": {
    "scrolled": true
   },
   "outputs": [],
   "source": [
    "# Calculate and plot probability errors\n",
    "\n",
    "prob_error_array = np.absolute(prob_app - prob_exc)\n",
    "\n",
    "# Curve fit\n",
    "\n",
    "def poly_2(x, a):\n",
    "    return a*x**2;\n",
    "\n",
    "for i in range(len(GS_indices)):\n",
    "    popt, pcov = optimize.curve_fit(poly_2, h_x_range, prob_error_array[i])\n",
    "    GS_probability_error_plot = plt.plot(h_x_range, prob_error_array[i])\n",
    "    plt.plot(h_x_range, poly_2(h_x_range, *popt))"
   ]
  },
  {
   "cell_type": "code",
   "execution_count": null,
   "metadata": {},
   "outputs": [],
   "source": [
    "# Total probability of the excited states for all six eigenvectors as a function of h_x (exact)\n",
    "\n",
    "prob_exc_total = np.zeros((len(GS_indices), len(GS_indices), len(h_x_range),))\n",
    "\n",
    "for n in range(len(GS_indices)):\n",
    "    for j, h_x in enumerate(h_x_range):\n",
    "        GS_prob_vector = prob(np.transpose(exc_eigenstates[j])[n])\n",
    "        for k, i in enumerate(GS_indices):\n",
    "            prob_exc_total[n][k][j] = GS_prob_vector[i]\n",
    "\n",
    "prob_excited_sum = np.zeros((len(GS_indices), len(h_x_range)))\n",
    "\n",
    "for n in range(len(GS_indices)):\n",
    "    for i, h_x in enumerate(h_x_range):\n",
    "        prob_excited_sum[n][i] = 1 - np.sum(prob_exc_total[n][:, i])\n",
    "\n",
    "for i in range(len(GS_indices)):\n",
    "    popt, pcov = optimize.curve_fit(poly_2, h_x_range, prob_excited_sum[i])\n",
    "    plt.plot(h_x_range, prob_excited_sum[i], h_x_range, poly_2(h_x_range, *popt))"
   ]
  },
  {
   "cell_type": "code",
   "execution_count": null,
   "metadata": {},
   "outputs": [],
   "source": [
    "# Plot fidelity\n",
    "\n",
    "# Renormalize\n",
    "\n",
    "def normalize(eigenstate):\n",
    "    norm = np.vdot(eigenstate, eigenstate)**0.5\n",
    "    return eigenstate/norm\n",
    "\n",
    "# Extract ground states from exc_states matrix and renormalize\n",
    "\n",
    "GS_exc_eigenstates = np.zeros((len(h_x_range), len(GS_indices), len(GS_indices)))\n",
    "normalized_GS_exc_eigenstates = np.zeros((len(h_x_range), len(GS_indices), len(GS_indices)))\n",
    "\n",
    "for j in range(len(h_x_range)):\n",
    "    for n, m in enumerate(GS_indices):\n",
    "        for i, k in enumerate(GS_indices):\n",
    "            GS_exc_eigenstates[j, n, i] = exc_eigenstates[j, m, i]\n",
    "            \n",
    "for j in range(len(h_x_range)):\n",
    "    for n in range(len(GS_indices)):\n",
    "        normed_vector = normalize(GS_exc_eigenstates[j, :, n])\n",
    "        for i in range(len(GS_indices)):\n",
    "            normalized_GS_exc_eigenstates[j, i, n] = normed_vector[i]\n",
    "            \n",
    "# Fidelity\n",
    "\n",
    "def fidelity(exc_eigenstate, app_eigenstate):\n",
    "    dot = np.vdot(exc_eigenstate, np.conjugate(app_eigenstate))\n",
    "    return dot*np.conjugate(dot)"
   ]
  },
  {
   "cell_type": "code",
   "execution_count": null,
   "metadata": {},
   "outputs": [],
   "source": [
    "# identify degenerate energy level and resort\n",
    "\n",
    "epsilon = 1*10**(-12)\n",
    "\n",
    "def sort(lst):\n",
    "    order = [];\n",
    "    floor = np.array([0]);\n",
    "    for i in range(1, len(lst)):\n",
    "        if abs(lst[i-1] - lst[i]) <= epsilon:\n",
    "            floor = np.append(floor, i)\n",
    "        else:  \n",
    "            order.append(floor)\n",
    "            floor = np.array([i]);\n",
    "    order.append(floor)\n",
    "    return list(order) "
   ]
  },
  {
   "cell_type": "code",
   "execution_count": null,
   "metadata": {},
   "outputs": [],
   "source": [
    "GS_exc_eigenvalues = exc_eigenvalues[0:6]\n",
    "fidelity_array = np.zeros((len(GS_indices), len(h_x_range)))\n",
    "\n",
    "for i in range(len(h_x_range)):\n",
    "    sorted_exc_energy_indices = sort(GS_exc_eigenvalues[:, i])\n",
    "    sorted_app_energy_indices = sort(app_eigenvalues[:, i])\n",
    "    for l, app_level in enumerate(sorted_app_energy_indices):\n",
    "        for j in app_level:\n",
    "            fidel_sum = 0;\n",
    "            for k in sorted_exc_energy_indices[l]:\n",
    "                fidel = fidelity(GS_exc_eigenstates[i, :, k], app_eigenstates[i, :, j])\n",
    "                fidel_sum += fidel\n",
    "            fidelity_array[j, i] = fidel_sum"
   ]
  },
  {
   "cell_type": "code",
   "execution_count": null,
   "metadata": {},
   "outputs": [],
   "source": [
    "for i in range(len(GS_indices)):\n",
    "    plt.plot(h_x_range, fidelity_array[i])"
   ]
  },
  {
   "cell_type": "code",
   "execution_count": null,
   "metadata": {},
   "outputs": [],
   "source": [
    "# Infidelity array\n",
    "\n",
    "infidelity_array = 1 - fidelity_array\n",
    "\n",
    "for i in range(len(GS_indices)):\n",
    "    popt, pcov = optimize.curve_fit(poly_2, h_x_range, infidelity_array[i])\n",
    "    plt.plot(h_x_range, infidelity_array[i], h_x_range, poly_2(h_x_range, *popt))"
   ]
  }
 ],
 "metadata": {
  "kernelspec": {
   "display_name": "Python 2",
   "language": "python",
   "name": "python2"
  },
  "language_info": {
   "codemirror_mode": {
    "name": "ipython",
    "version": 2
   },
   "file_extension": ".py",
   "mimetype": "text/x-python",
   "name": "python",
   "nbconvert_exporter": "python",
   "pygments_lexer": "ipython2",
   "version": "2.7.18"
  }
 },
 "nbformat": 4,
 "nbformat_minor": 1
}
