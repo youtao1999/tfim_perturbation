{
 "cells": [
  {
   "cell_type": "code",
   "execution_count": 1,
   "id": "17eabbca-42da-4930-84f4-e7c88c07858c",
   "metadata": {},
   "outputs": [
    {
     "name": "stderr",
     "output_type": "stream",
     "text": [
      "100% (32 of 32) |########################| Elapsed Time: 0:00:00 Time:  0:00:00\n"
     ]
    },
    {
     "name": "stdout",
     "output_type": "stream",
     "text": [
      "0 [0 0 0 0 0] -0.0\n",
      "1 [0 0 0 0 1] -4.0\n",
      "2 [0 0 0 1 0] 4.0\n",
      "3 [0 0 0 1 1] -4.0\n",
      "4 [0 0 1 0 0] -4.0\n",
      "5 [0 0 1 0 1] -4.0\n",
      "6 [0 0 1 1 0] 4.0\n",
      "7 [0 0 1 1 1] -0.0\n",
      "8 [0 1 0 0 0] 4.0\n",
      "9 [0 1 0 0 1] 4.0\n",
      "10 [0 1 0 1 0] 4.0\n",
      "11 [0 1 0 1 1] -0.0\n",
      "12 [0 1 1 0 0] -4.0\n",
      "13 [0 1 1 0 1] -0.0\n",
      "14 [0 1 1 1 0] -0.0\n",
      "15 [0 1 1 1 1] -0.0\n",
      "16 [1 0 0 0 0] -0.0\n",
      "17 [1 0 0 0 1] -0.0\n",
      "18 [1 0 0 1 0] -0.0\n",
      "19 [1 0 0 1 1] -4.0\n",
      "20 [1 0 1 0 0] -0.0\n",
      "21 [1 0 1 0 1] 4.0\n",
      "22 [1 0 1 1 0] 4.0\n",
      "23 [1 0 1 1 1] 4.0\n",
      "24 [1 1 0 0 0] -0.0\n",
      "25 [1 1 0 0 1] 4.0\n",
      "26 [1 1 0 1 0] -4.0\n",
      "27 [1 1 0 1 1] -4.0\n",
      "28 [1 1 1 0 0] -4.0\n",
      "29 [1 1 1 0 1] 4.0\n",
      "30 [1 1 1 1 0] -4.0\n",
      "31 [1 1 1 1 1] -0.0\n"
     ]
    }
   ],
   "source": [
    "# 3rd order debug \n",
    "import tfim\n",
    "import tfim_perturbation\n",
    "import tfim_matrices\n",
    "import numpy as np\n",
    "from scipy import sparse\n",
    "from scipy.sparse import linalg as spla\n",
    "from scipy import linalg\n",
    "import matplotlib.pyplot as plt\n",
    "from scipy.interpolate import interp1d\n",
    "import progressbar\n",
    "from scipy import optimize\n",
    "import itertools\n",
    "\n",
    "# Initial system specification\n",
    "L = [5]\n",
    "Jij_seed = 19\n",
    "h_x_range = np.arange(0, 0.001, 0.00001)\n",
    "\n",
    "PBC = True\n",
    "J = 1\n",
    "\n",
    "# Build lattice and basis\n",
    "###################################\n",
    "lattice = tfim.Lattice(L, PBC)\n",
    "N = lattice.N\n",
    "basis = tfim.IsingBasis(lattice)\n",
    "###################################\n",
    "\n",
    "# construct random J matrix\n",
    "Jij = tfim.Jij_instance(N,J,\"bimodal\",Jij_seed) \n",
    "# Jij = np.array([[-1, 1, 1]])\n",
    "\n",
    "# List out all the spin_states, corresponding indices and energies\n",
    "Energies = -tfim.JZZ_SK_ME(basis,Jij)\n",
    "for index in range(2**N):\n",
    "    print(index, basis.state(index), Energies[index])\n",
    "    \n",
    "GS_energy, GS_indices = tfim_perturbation.GS(Energies)"
   ]
  },
  {
   "cell_type": "code",
   "execution_count": 2,
   "id": "ded036f3-bb5c-4e4b-aefd-fee1312d8a51",
   "metadata": {},
   "outputs": [],
   "source": [
    "# Building blocks matrices\n",
    "ES_1_indices = tfim_matrices.Hamming_set(basis, GS_indices, N, GS_indices)\n",
    "PVP = tfim_matrices.PVP(basis, GS_indices, N)\n",
    "PVQ1 = tfim_matrices.PVQ_1(basis, Jij, GS_indices, ES_1_indices, N, GS_energy)\n",
    "Q1VP = np.transpose(PVQ1)\n",
    "Q1VQ1 = tfim_matrices.Q_1VQ_1(basis, ES_1_indices, GS_indices, N)\n",
    "\n",
    "# energy_gap_matrix_12 (EGM) denotes 1/(E_0-QH_0Q)^2 from Q1 to Q1\n",
    "EGM_12 = tfim_matrices.energy_gap(basis, Jij, ES_1_indices, N, GS_energy, 2)\n",
    "EGM_13 = tfim_matrices.energy_gap(basis, Jij, ES_1_indices, N, GS_energy, 3)\n",
    "EGM_11 = tfim_matrices.energy_gap(basis, Jij, ES_1_indices, N, GS_energy, 1)\n",
    "\n",
    "# Start building Hamiltonians\n",
    "H_0 = tfim_perturbation.H_app_0(GS_energy, GS_indices)\n",
    "\n",
    "H_app_1 = PVP\n",
    "\n",
    "H_app_2 = PVQ1 @ EGM_11 @ Q1VP\n",
    "\n",
    "H_app_3_exp = -0.5*(PVP @ PVQ1 @ EGM_12 @ Q1VP + np.transpose(PVP @ PVQ1 @ EGM_12 @ Q1VP)) + PVQ1 @ EGM_11 @ Q1VQ1 @ EGM_11 @ Q1VP"
   ]
  },
  {
   "cell_type": "code",
   "execution_count": 3,
   "id": "f9edbca9-a2b3-4014-9a5c-7c3141f9dec6",
   "metadata": {},
   "outputs": [
    {
     "name": "stdout",
     "output_type": "stream",
     "text": [
      "[ 0  2  6  7  8  9 10 11 13 14 17 18 20 21 22 23 24 25 29 31]\n",
      "[ 1  3  4  5 12 19 26 27 28 30]\n"
     ]
    }
   ],
   "source": [
    "print(ES_1_indices)\n",
    "print(GS_indices)"
   ]
  },
  {
   "cell_type": "code",
   "execution_count": 4,
   "id": "08c7994f-6a76-4d19-9d91-5b928b3988bc",
   "metadata": {},
   "outputs": [
    {
     "name": "stdout",
     "output_type": "stream",
     "text": [
      "[[4]]\n"
     ]
    }
   ],
   "source": [
    "a = np.array([1,2,3,4,5])\n",
    "print(np.argwhere(a == 5))"
   ]
  },
  {
   "cell_type": "code",
   "execution_count": 5,
   "id": "cd118661-d8f7-44f3-abdb-282600142173",
   "metadata": {},
   "outputs": [
    {
     "name": "stdout",
     "output_type": "stream",
     "text": [
      "[[0. 0. 0. 0. 0. 0. 0. 0. 0. 0.]\n",
      " [0. 0. 0. 0. 0. 0. 0. 0. 0. 0.]\n",
      " [0. 0. 0. 0. 0. 0. 0. 0. 0. 0.]\n",
      " [0. 0. 0. 0. 0. 0. 0. 0. 0. 0.]\n",
      " [0. 0. 0. 0. 0. 0. 0. 0. 0. 0.]\n",
      " [0. 0. 0. 0. 0. 0. 0. 0. 0. 0.]\n",
      " [0. 0. 0. 0. 0. 0. 0. 0. 0. 0.]\n",
      " [0. 0. 0. 0. 0. 0. 0. 0. 0. 0.]\n",
      " [0. 0. 0. 0. 0. 0. 0. 0. 0. 0.]\n",
      " [0. 0. 0. 0. 0. 0. 0. 0. 0. 0.]]\n"
     ]
    }
   ],
   "source": [
    "H_app_3 = np.zeros((len(GS_indices), len(GS_indices)))\n",
    "\n",
    "# for column, GS_bra_1 in enumerate(GS_indices):\n",
    "#     state_0 = basis.state(GS_bra_1)\n",
    "#     for i in range(N):\n",
    "#         basis.flip(state_0, i)\n",
    "#         state_1_index = basis.index(state_0)\n",
    "#         if state_1_index in GS_indices:\n",
    "#             for j in range(N):\n",
    "#                 basis.flip(state_0, j)\n",
    "#                 state_2_index = basis.index(state_0)\n",
    "#                 if state_2_index not in GS_indices:\n",
    "#                     energy_gap = GS_energy - tfim_perturbation.state_energy(basis, Jij, state_2_index)\n",
    "#                     for k in range(N):\n",
    "#                         basis.flip(state_0, k)\n",
    "#                         state_3_index = basis.index(state_0)\n",
    "#                         GS_3_index = np.argwhere(np.array(GS_indices) == state_3_index)\n",
    "#                         if len(GS_3_index) > 0:\n",
    "#                             row = GS_3_index[0][0]\n",
    "#                             H_app_3[row, column] += -0.5/(energy_gap**2)\n",
    "#                         basis.flip(state_0, k)\n",
    "#                 basis.flip(state_0, j)\n",
    "#         basis.flip(state_0, i)\n",
    "\n",
    "# term_2 = np.transpose(H_app_3)\n",
    "# H_app_3 += term_2\n",
    "\n",
    "#     for column, GS_bra_1 in enumerate(GS_indices):        \n",
    "#         state_0 = basis.state(GS_bra_1)\n",
    "#         for i in range(N):\n",
    "#             basis.flip(state_0, i)\n",
    "#             state_1_index = basis.index(state_0)\n",
    "#             if state_1_index not in GS_indices:\n",
    "#                 energy_gap = state_energy(basis, Jij, state_1_index) - GS_energy\n",
    "#                 for j in range(N):\n",
    "#                     basis.flip(state_0, j)\n",
    "#                     state_2_index = basis.index(state_0)\n",
    "#                     if state_2_index in GS_indices:\n",
    "#                         for k in range(N):\n",
    "#                             basis.flip(state_0, k)\n",
    "#                             state_3_index = basis.index(state_0)\n",
    "#                             GS_3_index = np.argwhere(np.array(GS_indices) == state_3_index)\n",
    "#                             if len(GS_3_index) > 0:\n",
    "#                                 row = GS_3_index[0][0]\n",
    "#                                 H_app_3[row, column] += -0.5/(energy_gap**2)\n",
    "#                             basis.flip(state_0, k)\n",
    "#                     basis.flip(state_0, j)\n",
    "#             basis.flip(state_0, i)\n",
    "\n",
    "for column, GS_bra_1 in enumerate(GS_indices):\n",
    "    state_0 = basis.state(GS_bra_1)\n",
    "    for i in range(N):\n",
    "        basis.flip(state_0, i)\n",
    "        state_1_index = basis.index(state_0)\n",
    "        if state_1_index not in GS_indices:\n",
    "            energy_gap_1 = GS_energy - tfim_perturbation.state_energy(basis, Jij, state_1_index)\n",
    "            for j in range(N):\n",
    "                basis.flip(state_0, j)\n",
    "                state_2_index = basis.index(state_0)\n",
    "                if state_2_index not in GS_indices:\n",
    "                    energy_gap_2 = GS_energy - tfim_perturbation.state_energy(basis, Jij, state_2_index)\n",
    "                    for k in range(N):\n",
    "                        basis.flip(state_0, k)\n",
    "                        state_3_index = basis.index(state_0)\n",
    "                        GS_3_index = np.argwhere(np.array(GS_indices) == state_3_index)\n",
    "                        if len(GS_3_index) > 0:\n",
    "                            row = GS_3_index[0][0]\n",
    "                            H_app_3[row, column] += 1.0/(energy_gap_1*energy_gap_2)\n",
    "                        basis.flip(state_0, k)\n",
    "                basis.flip(state_0, j)\n",
    "        basis.flip(state_0, i)\n",
    "print(H_app_3-PVQ1 @ EGM_11 @ Q1VQ1 @ EGM_11 @ Q1VP)"
   ]
  },
  {
   "cell_type": "code",
   "execution_count": 6,
   "id": "ebeda690-17bc-4d40-bc42-2a83ee8362fe",
   "metadata": {},
   "outputs": [],
   "source": [
    "H_exp = tfim_perturbation.H_app_3rd(0.05, H_0, H_app_1, H_app_2, H_app_3_exp, J)"
   ]
  },
  {
   "cell_type": "code",
   "execution_count": 7,
   "id": "66b08cd9-f24e-4a82-b7d7-81f9cc544a28",
   "metadata": {},
   "outputs": [],
   "source": [
    "H_0 = tfim_perturbation.H_app_0(GS_energy, GS_indices)\n",
    "V = tfim_perturbation.H_app_1(basis, GS_indices, N)\n",
    "H_2 = tfim_perturbation.H_app_2(basis, Jij, GS_indices, N, GS_energy)\n",
    "H_3 = tfim_perturbation.H_app_3(basis, Jij, GS_indices, N, GS_energy)\n",
    "H_corr = tfim_perturbation.H_app_3rd(0.05, H_0, V, H_2, H_3, J)"
   ]
  },
  {
   "cell_type": "code",
   "execution_count": 8,
   "id": "e9efc909-84ce-49e3-96d3-1e2ed0728c5e",
   "metadata": {},
   "outputs": [
    {
     "data": {
      "text/plain": [
       "array([[0., 0., 0., 0., 0., 0., 0., 0., 0., 0.],\n",
       "       [0., 0., 0., 0., 0., 0., 0., 0., 0., 0.],\n",
       "       [0., 0., 0., 0., 0., 0., 0., 0., 0., 0.],\n",
       "       [0., 0., 0., 0., 0., 0., 0., 0., 0., 0.],\n",
       "       [0., 0., 0., 0., 0., 0., 0., 0., 0., 0.],\n",
       "       [0., 0., 0., 0., 0., 0., 0., 0., 0., 0.],\n",
       "       [0., 0., 0., 0., 0., 0., 0., 0., 0., 0.],\n",
       "       [0., 0., 0., 0., 0., 0., 0., 0., 0., 0.],\n",
       "       [0., 0., 0., 0., 0., 0., 0., 0., 0., 0.],\n",
       "       [0., 0., 0., 0., 0., 0., 0., 0., 0., 0.]])"
      ]
     },
     "execution_count": 8,
     "metadata": {},
     "output_type": "execute_result"
    }
   ],
   "source": [
    "H_exp - H_corr"
   ]
  },
  {
   "cell_type": "code",
   "execution_count": 9,
   "id": "7d96ae7f-4518-4293-a340-c2025edea901",
   "metadata": {},
   "outputs": [],
   "source": [
    "# debug Q1VQ2 Matrix--this must be the bug for 4th order \n",
    "def Q_1VQ_2(basis, ES_1_indices, ES_2_indices, GS_indices, N):\n",
    "    #ES_2_indices denotes the indices of all the states that are one Hamming distance away from ES_1_indices\n",
    "    # QVQ matrix\n",
    "    QVQ = np.zeros((len(ES_1_indices), len(ES_2_indices)))\n",
    "    for column, ket in enumerate(ES_2_indices):\n",
    "        state = basis.state(ket)\n",
    "        for i in range(N):\n",
    "            basis.flip(state, i)\n",
    "            bra = basis.index(state)\n",
    "            subspace_index = np.argwhere(ES_1_indices == bra)\n",
    "            if len(subspace_index) > 0 and ES_1_indices[subspace_index] not in GS_indices:\n",
    "                row = subspace_index[0][0]\n",
    "                QVQ[row, column] += 1\n",
    "            basis.flip(state,i)\n",
    "    return QVQ"
   ]
  },
  {
   "cell_type": "code",
   "execution_count": 10,
   "id": "5c05ba66-ba06-4509-9141-087d6da159ea",
   "metadata": {},
   "outputs": [
    {
     "name": "stdout",
     "output_type": "stream",
     "text": [
      "(22,)\n",
      "(20, 22)\n"
     ]
    }
   ],
   "source": [
    "ES_1_indices = tfim_matrices.Hamming_set(basis, GS_indices, N, GS_indices)\n",
    "ES_2_indices = tfim_matrices.Hamming_set(basis, ES_1_indices, N, GS_indices)\n",
    "\n",
    "#ES_2_indices denotes the indices of all the states that are one Hamming distance away from ES_1_indices\n",
    "# QVQ matrix\n",
    "QVQ = np.zeros((len(ES_1_indices), len(ES_2_indices)))\n",
    "for column, ket in enumerate(ES_2_indices):\n",
    "    state = basis.state(ket)\n",
    "    for i in range(N):\n",
    "        basis.flip(state, i)\n",
    "        bra = basis.index(state)\n",
    "        subspace_index = np.argwhere(ES_1_indices == bra)\n",
    "        if len(subspace_index) > 0 and ES_1_indices[subspace_index] not in GS_indices:\n",
    "            row = subspace_index[0][0]\n",
    "            QVQ[row, column] += 1\n",
    "        basis.flip(state,i)\n",
    "        \n",
    "print(ES_2_indices.shape)\n",
    "print(np.shape(QVQ))"
   ]
  },
  {
   "cell_type": "code",
   "execution_count": 14,
   "id": "9cce56bf-2623-46e7-8089-f284b16ffae7",
   "metadata": {},
   "outputs": [
    {
     "name": "stdout",
     "output_type": "stream",
     "text": [
      "(20, 20)\n",
      "(20, 22)\n"
     ]
    }
   ],
   "source": [
    "app_eigenvalues = np.zeros((len(GS_indices), len(h_x_range)))\n",
    "app_eigenstates = np.zeros((len(h_x_range), len(GS_indices), len(GS_indices)))\n",
    "\n",
    "# Building blocks matrices\n",
    "ES_1_indices = tfim_matrices.Hamming_set(basis, GS_indices, N, GS_indices)\n",
    "ES_2_indices = tfim_matrices.Hamming_set(basis, ES_1_indices, N, GS_indices)\n",
    "\n",
    "# Building blocks matrices\n",
    "PVP = tfim_matrices.PVP(basis, GS_indices, N)\n",
    "PVQ1 = tfim_matrices.PVQ_1(basis, Jij, GS_indices, ES_1_indices, N, GS_energy)\n",
    "Q1VP = np.transpose(PVQ1)\n",
    "Q1VQ1 = tfim_matrices.Q_1VQ_1(basis, ES_1_indices, GS_indices, N)\n",
    "Q1VQ2 = tfim_matrices.Q_1VQ_2(basis, ES_2_indices, ES_1_indices, GS_indices, N)\n",
    "Q2VQ1 = np.transpose(Q1VQ2)\n",
    "\n",
    "# energy_gap_matrix_12 (EGM) denotes 1/(E_0-QH_0Q)^2 from Q1 to Q1\n",
    "EGM_12 = tfim_matrices.energy_gap(basis, Jij, ES_1_indices, N, GS_energy, 2)\n",
    "EGM_13 = tfim_matrices.energy_gap(basis, Jij, ES_1_indices, N, GS_energy, 3)\n",
    "EGM_11 = tfim_matrices.energy_gap(basis, Jij, ES_1_indices, N, GS_energy, 1)\n",
    "EGM_21 = tfim_matrices.energy_gap(basis, Jij, ES_2_indices, N, GS_energy, 1)\n",
    "\n",
    "print(Q1VQ1.shape)\n",
    "print(np.shape(Q1VQ2))"
   ]
  },
  {
   "cell_type": "code",
   "execution_count": 15,
   "id": "1ec12a71-d5d7-4b09-8f02-8f54df150b7e",
   "metadata": {},
   "outputs": [],
   "source": [
    "# Start building Hamiltonians\n",
    "H_app_1 = PVP\n",
    "\n",
    "H_app_2 = PVQ1 @ EGM_11 @ Q1VP\n",
    "\n",
    "H_app_3 = -0.5*(PVP @ PVQ1 @ EGM_12 @ Q1VP + np.transpose(PVP @ PVQ1 @ EGM_12 @ Q1VP)) + PVQ1 @ EGM_11 @ Q1VQ1 @ EGM_11 @ Q1VP\n",
    "\n",
    "H_app_4 = 0.5*(tfim_matrices.hc(PVQ1 @ EGM_13 @ Q1VP @ PVP @ PVP)) - 0.5*(tfim_matrices.hc(PVQ1 @ EGM_12 @ Q1VP @ PVQ1 @ EGM_11 @ Q1VP)) - 1.*(tfim_matrices.hc(PVQ1 @ EGM_11 @ Q1VQ1 @ EGM_12 @ Q1VP @ PVP)) + 1.*(PVQ1 @ EGM_11 @ Q1VQ2 @ EGM_21 @ Q2VQ1 @ EGM_11 @ Q1VP)"
   ]
  },
  {
   "cell_type": "code",
   "execution_count": null,
   "id": "fed4884f-d53e-4f9a-bb69-dc588bc34e4d",
   "metadata": {},
   "outputs": [],
   "source": [
    "print(0.5*(tfim_matrices.hc(PVQ1 @ EGM_13 @ Q1VP @ PVP @ PVP)))"
   ]
  },
  {
   "cell_type": "code",
   "execution_count": null,
   "id": "bf0bfe85-9200-4765-95fd-b28568d85746",
   "metadata": {},
   "outputs": [],
   "source": [
    "print(H_app_3)"
   ]
  },
  {
   "cell_type": "code",
   "execution_count": null,
   "id": "8c4ea41c-2d97-4a3e-95cb-5f61980b6209",
   "metadata": {},
   "outputs": [],
   "source": [
    "print(H_app_4)"
   ]
  },
  {
   "cell_type": "code",
   "execution_count": null,
   "id": "a644c567-dd96-4aba-a1fd-9c348f4e91aa",
   "metadata": {},
   "outputs": [],
   "source": [
    "1/64"
   ]
  },
  {
   "cell_type": "code",
   "execution_count": null,
   "id": "c74c8143-704d-4ecb-97a3-e3f5593134f5",
   "metadata": {},
   "outputs": [],
   "source": []
  }
 ],
 "metadata": {
  "kernelspec": {
   "display_name": "Python 3",
   "language": "python",
   "name": "python3"
  },
  "language_info": {
   "codemirror_mode": {
    "name": "ipython",
    "version": 3
   },
   "file_extension": ".py",
   "mimetype": "text/x-python",
   "name": "python",
   "nbconvert_exporter": "python",
   "pygments_lexer": "ipython3",
   "version": "3.8.8"
  }
 },
 "nbformat": 4,
 "nbformat_minor": 5
}
